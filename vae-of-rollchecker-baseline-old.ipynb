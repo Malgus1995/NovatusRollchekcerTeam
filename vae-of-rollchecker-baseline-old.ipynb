{
 "cells": [
  {
   "cell_type": "code",
   "execution_count": 1,
   "id": "e1721ba9",
   "metadata": {
    "_cell_guid": "b1076dfc-b9ad-4769-8c92-a6c4dae69d19",
    "_uuid": "8f2839f25d086af736a60e9eeb907d3b93b6e0e5",
    "execution": {
     "iopub.execute_input": "2022-10-21T02:14:41.419666Z",
     "iopub.status.busy": "2022-10-21T02:14:41.418305Z",
     "iopub.status.idle": "2022-10-21T02:14:43.687594Z",
     "shell.execute_reply": "2022-10-21T02:14:43.686521Z"
    },
    "papermill": {
     "duration": 2.280951,
     "end_time": "2022-10-21T02:14:43.690528",
     "exception": false,
     "start_time": "2022-10-21T02:14:41.409577",
     "status": "completed"
    },
    "tags": []
   },
   "outputs": [],
   "source": [
    "import os \n",
    "import numpy as np\n",
    "import matplotlib.pyplot as plt\n",
    "import cv2\n",
    "import torch.nn as nn\n",
    "import torch\n",
    "import torch.nn.functional as F\n",
    "from torch.utils.data import DataLoader\n",
    "from torch.utils.data import TensorDataset"
   ]
  },
  {
   "cell_type": "code",
   "execution_count": 2,
   "id": "e3424473",
   "metadata": {
    "execution": {
     "iopub.execute_input": "2022-10-21T02:14:43.701169Z",
     "iopub.status.busy": "2022-10-21T02:14:43.700672Z",
     "iopub.status.idle": "2022-10-21T02:14:43.747451Z",
     "shell.execute_reply": "2022-10-21T02:14:43.746516Z"
    },
    "papermill": {
     "duration": 0.054831,
     "end_time": "2022-10-21T02:14:43.749975",
     "exception": false,
     "start_time": "2022-10-21T02:14:43.695144",
     "status": "completed"
    },
    "tags": []
   },
   "outputs": [],
   "source": [
    "Folders = os.listdir('../input/rollcheckerteam')\n",
    "False_path = os.path.join('../input/rollcheckerteam','9f')\n",
    "False_file_list = [os.path.join(False_path,file) for file in os.listdir(False_path)]\n",
    "True_path = os.path.join('../input/rollcheckerteam','9')\n",
    "True_file_list = [os.path.join(True_path,file) for file in os.listdir(True_path)]\n"
   ]
  },
  {
   "cell_type": "code",
   "execution_count": 3,
   "id": "71c854d6",
   "metadata": {
    "execution": {
     "iopub.execute_input": "2022-10-21T02:14:43.759092Z",
     "iopub.status.busy": "2022-10-21T02:14:43.758755Z",
     "iopub.status.idle": "2022-10-21T02:14:44.281262Z",
     "shell.execute_reply": "2022-10-21T02:14:44.280236Z"
    },
    "papermill": {
     "duration": 0.529666,
     "end_time": "2022-10-21T02:14:44.283625",
     "exception": false,
     "start_time": "2022-10-21T02:14:43.753959",
     "status": "completed"
    },
    "tags": []
   },
   "outputs": [],
   "source": [
    "train_imgs = np.zeros((len(True_file_list),1,28,28))\n",
    "\n",
    "for idx,img in enumerate(True_file_list):\n",
    "    tmp_grayscale_img = cv2.imread(img,cv2.IMREAD_GRAYSCALE)\n",
    "    tmp_grayscale_img = cv2.resize(tmp_grayscale_img,(28,28))/255\n",
    "    train_imgs[idx,0,:,:] = tmp_grayscale_img"
   ]
  },
  {
   "cell_type": "code",
   "execution_count": 4,
   "id": "3fb3dd99",
   "metadata": {
    "execution": {
     "iopub.execute_input": "2022-10-21T02:14:44.294576Z",
     "iopub.status.busy": "2022-10-21T02:14:44.292832Z",
     "iopub.status.idle": "2022-10-21T02:14:44.301976Z",
     "shell.execute_reply": "2022-10-21T02:14:44.301032Z"
    },
    "papermill": {
     "duration": 0.016045,
     "end_time": "2022-10-21T02:14:44.303911",
     "exception": false,
     "start_time": "2022-10-21T02:14:44.287866",
     "status": "completed"
    },
    "tags": []
   },
   "outputs": [
    {
     "data": {
      "text/plain": [
       "(124, 1, 28, 28)"
      ]
     },
     "execution_count": 4,
     "metadata": {},
     "output_type": "execute_result"
    }
   ],
   "source": [
    "train_imgs.shape"
   ]
  },
  {
   "cell_type": "code",
   "execution_count": 5,
   "id": "e2d6be18",
   "metadata": {
    "execution": {
     "iopub.execute_input": "2022-10-21T02:14:44.313383Z",
     "iopub.status.busy": "2022-10-21T02:14:44.312602Z",
     "iopub.status.idle": "2022-10-21T02:14:44.543329Z",
     "shell.execute_reply": "2022-10-21T02:14:44.542453Z"
    },
    "papermill": {
     "duration": 0.237699,
     "end_time": "2022-10-21T02:14:44.545477",
     "exception": false,
     "start_time": "2022-10-21T02:14:44.307778",
     "status": "completed"
    },
    "tags": []
   },
   "outputs": [
    {
     "data": {
      "text/plain": [
       "<matplotlib.image.AxesImage at 0x7f2f53158dd0>"
      ]
     },
     "execution_count": 5,
     "metadata": {},
     "output_type": "execute_result"
    },
    {
     "data": {
      "image/png": "[encoded data removed]",
      "text/plain": [
       "<Figure size 432x288 with 1 Axes>"
      ]
     },
     "metadata": {
      "needs_background": "light"
     },
     "output_type": "display_data"
    }
   ],
   "source": [
    "plt.imshow(train_imgs[2,0,:,:])"
   ]
  },
  {
   "cell_type": "code",
   "execution_count": 6,
   "id": "6791b0f7",
   "metadata": {
    "execution": {
     "iopub.execute_input": "2022-10-21T02:14:44.554902Z",
     "iopub.status.busy": "2022-10-21T02:14:44.554608Z",
     "iopub.status.idle": "2022-10-21T02:14:44.560045Z",
     "shell.execute_reply": "2022-10-21T02:14:44.559136Z"
    },
    "papermill": {
     "duration": 0.01227,
     "end_time": "2022-10-21T02:14:44.562057",
     "exception": false,
     "start_time": "2022-10-21T02:14:44.549787",
     "status": "completed"
    },
    "tags": []
   },
   "outputs": [],
   "source": [
    "input_size =28\n",
    "hidden_size = [28,64,128,128,256]\n",
    "output_size =4\n",
    "batch_size=16"
   ]
  },
  {
   "cell_type": "code",
   "execution_count": 7,
   "id": "f6561650",
   "metadata": {
    "execution": {
     "iopub.execute_input": "2022-10-21T02:14:44.571172Z",
     "iopub.status.busy": "2022-10-21T02:14:44.570911Z",
     "iopub.status.idle": "2022-10-21T02:14:44.574990Z",
     "shell.execute_reply": "2022-10-21T02:14:44.574022Z"
    },
    "papermill": {
     "duration": 0.011102,
     "end_time": "2022-10-21T02:14:44.576968",
     "exception": false,
     "start_time": "2022-10-21T02:14:44.565866",
     "status": "completed"
    },
    "tags": []
   },
   "outputs": [],
   "source": [
    "kernel_size = 4\n",
    "stride = 1\n",
    "padding = 0\n",
    "init_kernel = 16"
   ]
  },
  {
   "cell_type": "code",
   "execution_count": 8,
   "id": "1a5bc217",
   "metadata": {
    "execution": {
     "iopub.execute_input": "2022-10-21T02:14:44.586420Z",
     "iopub.status.busy": "2022-10-21T02:14:44.586163Z",
     "iopub.status.idle": "2022-10-21T02:14:44.610383Z",
     "shell.execute_reply": "2022-10-21T02:14:44.609382Z"
    },
    "papermill": {
     "duration": 0.03153,
     "end_time": "2022-10-21T02:14:44.612510",
     "exception": false,
     "start_time": "2022-10-21T02:14:44.580980",
     "status": "completed"
    },
    "tags": []
   },
   "outputs": [],
   "source": [
    "## AutoEncoder 클래스 구현 \n",
    "class VariationalAutoEncoder(nn.Module):\n",
    "    def __init__(self, input_size, hidden_size, output_size):\n",
    "        super(VariationalAutoEncoder, self).__init__()\n",
    "        ## initialize\n",
    "        self.input_size = input_size\n",
    "        self.hidden_size = hidden_size\n",
    "        self.output_size = output_size\n",
    "        self.Relu = nn.RReLU()\n",
    "        self.flatten = nn.Flatten()\n",
    "        ##오토인코더 구현\n",
    "        \n",
    "        self.fc_mu = nn.Linear(output_size,output_size)\n",
    "        self.fc_var =nn.Linear(output_size,output_size)\n",
    "        \n",
    "        ## 인코더 부분\n",
    "        self.input_en_layer = nn.Conv2d(\n",
    "            in_channels=1, out_channels=init_kernel, kernel_size=kernel_size, \n",
    "            stride=stride, padding=padding)\n",
    "        #self.bn1 = nn.BatchNorm2d(hidden_size[0])\n",
    "        self.input_en_layer_2 = nn.Conv2d(\n",
    "            in_channels=init_kernel, out_channels=init_kernel*2, kernel_size=kernel_size, \n",
    "            stride=stride, padding=padding\n",
    "        )\n",
    "        #self.bn2 = nn.BatchNorm2d(hidden_size[1])\n",
    "        self.input_en_layer_3 = nn.Conv2d(\n",
    "            in_channels=init_kernel*2, out_channels=init_kernel*4, kernel_size=kernel_size, \n",
    "            stride=stride, padding=padding\n",
    "        )\n",
    "        #self.bn3 = nn.BatchNorm2d(hidden_size[2])\n",
    "        self.input_en_layer_4 = nn.Conv2d(\n",
    "            in_channels=init_kernel*4, out_channels=init_kernel*8, kernel_size=kernel_size, \n",
    "            stride=stride, padding=padding\n",
    "        )\n",
    "        #self.bn4 = nn.BatchNorm2d(hidden_size[3])\n",
    "        self.input_en_layer_5 = nn.Conv2d(\n",
    "            in_channels=init_kernel*8, out_channels=init_kernel, kernel_size=kernel_size, \n",
    "            stride=stride, padding=padding\n",
    "        )\n",
    "        #self.bn5 = nn.BatchNorm2d(hidden_size[4])\n",
    "        self.output_en_layer = nn.Linear(32768, output_size)\n",
    "        \n",
    "        #log_var = \n",
    "        \n",
    "        ## 디코더 부분\n",
    "        self.input_dic_layer = nn.ConvTranspose2d(\n",
    "            in_channels=1, out_channels=init_kernel*8, kernel_size=2, \n",
    "            stride=stride, padding=padding\n",
    "        )\n",
    "        self.input_dic_layer_5 = nn.ConvTranspose2d(\n",
    "            in_channels=init_kernel, out_channels=init_kernel*8, kernel_size=kernel_size, \n",
    "            stride=stride, padding=padding\n",
    "        )\n",
    "        self\n",
    "        self.input_dic_layer_4 = nn.ConvTranspose2d(\n",
    "            in_channels=init_kernel*8, out_channels=init_kernel*4, kernel_size=kernel_size, \n",
    "            stride=stride, padding=padding\n",
    "        )\n",
    "        self.input_dic_layer_3 = nn.ConvTranspose2d(\n",
    "            in_channels=init_kernel*4, out_channels=init_kernel*2, kernel_size=kernel_size, \n",
    "            stride=stride, padding=padding\n",
    "        )\n",
    "        self.input_dic_layer_2 = nn.ConvTranspose2d(\n",
    "            in_channels=init_kernel*2, out_channels=init_kernel, kernel_size=kernel_size, \n",
    "            stride=stride, padding=padding\n",
    "        )\n",
    "        \n",
    "        self.output_dic_layer = nn.ConvTranspose2d(\n",
    "            in_channels=16, out_channels=1, kernel_size=kernel_size, \n",
    "            stride=2, padding=padding\n",
    "        )\n",
    "        \n",
    "        self.log_scale = nn.Parameter(torch.Tensor([0.0]))\n",
    "        self.mu = 0\n",
    "        self.z = 0\n",
    "        self.log_var = 0\n",
    "        \n",
    "        \n",
    "    def encode(self,inputs):\n",
    "        x = (self.input_en_layer(inputs))\n",
    "        x = self.Relu(x)\n",
    "        \n",
    "        x = (self.input_en_layer_2(x))\n",
    "        x = self.Relu(x)\n",
    "\n",
    "        x = (self.input_en_layer_3(x))\n",
    "\n",
    "        x = self.Relu(x)\n",
    "        x = (self.input_en_layer_4(x))\n",
    "        x = self.Relu(x)\n",
    "        x = self.flatten(x)\n",
    "        output = self.output_en_layer(x) \n",
    "        \n",
    "        return output\n",
    "    \n",
    "    def decode(self,output):\n",
    "        output = self.input_dic_layer(output)\n",
    "        output = (self.input_dic_layer_4(output))\n",
    "        output = self.Relu(output)\n",
    "        output = (self.input_dic_layer_3(output))\n",
    "        output = self.Relu(output)\n",
    "        output = (self.input_dic_layer_2(output))\n",
    "        output = self.Relu(output)\n",
    "        \n",
    "        output = self.output_dic_layer(output)\n",
    "        output = nn.ZeroPad2d(1)(output)\n",
    "        \n",
    "        \n",
    "        return output\n",
    "    \n",
    "    def gaussian_likelihood(self,x_hat,x):\n",
    "        scale=  torch.exp(torch.tensor(self.log_scale))\n",
    "        mean = x_hat\n",
    "        dist = torch.distributions.Normal(mean,scale)\n",
    "        \n",
    "        log_pxz = dist.log_prob(x)\n",
    "        \n",
    "        return log_pxz.sum(dim=(1))\n",
    "        \n",
    " \n",
    "    def kl_divergence(self, z, mu, std):\n",
    "        # --------------------------\n",
    "        # Monte carlo KL divergence\n",
    "        # --------------------------\n",
    "        # 1. define the first two probabilities (in this case Normal for both)\n",
    "        p = torch.distributions.Normal(torch.zeros_like(mu), torch.ones_like(std))\n",
    "        q = torch.distributions.Normal(mu, std)\n",
    "\n",
    "        # 2. get the probabilities from the equation\n",
    "        log_qzx = q.log_prob(z)\n",
    "        log_pz = p.log_prob(z)\n",
    "\n",
    "        # kl\n",
    "        kl = (log_qzx - log_pz)\n",
    "\n",
    "        # sum over last dim to go from single dim distribution to multi-dim\n",
    "        kl = kl.sum(-1)\n",
    "        return kl\n",
    "    \n",
    "    def forwardV2(self, inputs): \n",
    "        output = self.encode(inputs)\n",
    "        self.mu = self.fc_mu(output)\n",
    "        self.log_var = self.fc_var(output)\n",
    "        std = torch.exp(self.log_var/2)\n",
    "        q = torch.distributions.Normal(self.mu,std)\n",
    "        z = q.rsample()\n",
    "        z = z.view([-1,1,2,2])\n",
    "        \n",
    "        x_hat = self.decode(z)\n",
    "\n",
    "        \n",
    "        return x_hat\n",
    "    \n",
    "    \n",
    "    def forward(self, inputs): \n",
    "        output = self.encode(inputs)\n",
    "        self.mu = self.fc_mu(output)\n",
    "        self.log_var = self.fc_var(output)\n",
    "        std = torch.exp(self.log_var/2)\n",
    "        q = torch.distributions.Normal(self.mu,std)\n",
    "        z = q.rsample()\n",
    "        z = z.view([-1,1,2,2])\n",
    "        \n",
    "        x_hat = self.decode(z)\n",
    "        recon_loss = self.gaussian_likelihood(x_hat,inputs)\n",
    "        z = z.view([-1,4])\n",
    "        kl =  self.kl_divergence(z,self.mu,std)\n",
    "        elbo = (kl - recon_loss.mean(dim=1).mean(dim=1))\n",
    "        elbo = elbo.mean()\n",
    "        \n",
    "        return elbo\n",
    "    "
   ]
  },
  {
   "cell_type": "code",
   "execution_count": 9,
   "id": "66ee96cc",
   "metadata": {
    "execution": {
     "iopub.execute_input": "2022-10-21T02:14:44.622269Z",
     "iopub.status.busy": "2022-10-21T02:14:44.621515Z",
     "iopub.status.idle": "2022-10-21T02:14:44.635010Z",
     "shell.execute_reply": "2022-10-21T02:14:44.634177Z"
    },
    "papermill": {
     "duration": 0.02049,
     "end_time": "2022-10-21T02:14:44.636973",
     "exception": false,
     "start_time": "2022-10-21T02:14:44.616483",
     "status": "completed"
    },
    "tags": []
   },
   "outputs": [],
   "source": [
    "MSELoss = nn.MSELoss()\n",
    "## 매개변수 조정 방식으로 Adam사용\n",
    "optimizer = torch.optim.Adam\n",
    "VAE = VariationalAutoEncoder(input_size,hidden_size, output_size)\n",
    "optim = optimizer(VAE.parameters())"
   ]
  },
  {
   "cell_type": "code",
   "execution_count": 10,
   "id": "715b08b0",
   "metadata": {
    "execution": {
     "iopub.execute_input": "2022-10-21T02:14:44.646085Z",
     "iopub.status.busy": "2022-10-21T02:14:44.645822Z",
     "iopub.status.idle": "2022-10-21T02:14:44.650967Z",
     "shell.execute_reply": "2022-10-21T02:14:44.650129Z"
    },
    "papermill": {
     "duration": 0.011817,
     "end_time": "2022-10-21T02:14:44.652912",
     "exception": false,
     "start_time": "2022-10-21T02:14:44.641095",
     "status": "completed"
    },
    "tags": []
   },
   "outputs": [],
   "source": [
    "train_dataloader = DataLoader(train_imgs, batch_size=16,\n",
    "                                         shuffle=True)"
   ]
  },
  {
   "cell_type": "code",
   "execution_count": 11,
   "id": "dff9c96d",
   "metadata": {
    "execution": {
     "iopub.execute_input": "2022-10-21T02:14:44.661986Z",
     "iopub.status.busy": "2022-10-21T02:14:44.661729Z",
     "iopub.status.idle": "2022-10-21T02:14:52.026591Z",
     "shell.execute_reply": "2022-10-21T02:14:52.024926Z"
    },
    "papermill": {
     "duration": 7.372807,
     "end_time": "2022-10-21T02:14:52.029539",
     "exception": false,
     "start_time": "2022-10-21T02:14:44.656732",
     "status": "completed"
    },
    "tags": []
   },
   "outputs": [
    {
     "name": "stderr",
     "output_type": "stream",
     "text": [
      "/opt/conda/lib/python3.7/site-packages/ipykernel_launcher.py:12: UserWarning: To copy construct from a tensor, it is recommended to use sourceTensor.clone().detach() or sourceTensor.clone().detach().requires_grad_(True), rather than torch.tensor(sourceTensor).\n",
      "  if sys.path[0] == \"\":\n",
      "/opt/conda/lib/python3.7/site-packages/ipykernel_launcher.py:112: UserWarning: To copy construct from a tensor, it is recommended to use sourceTensor.clone().detach() or sourceTensor.clone().detach().requires_grad_(True), rather than torch.tensor(sourceTensor).\n"
     ]
    },
    {
     "name": "stdout",
     "output_type": "stream",
     "text": [
      "epoch: 10, loss: 10.71\n"
     ]
    }
   ],
   "source": [
    "Adam = optimizer(VAE.parameters(), lr =0.0001,weight_decay=0.00005)\n",
    "## 배치 학습을 시키기 위한 데이터 변환\n",
    "data_iter = train_dataloader\n",
    "## 에포크 학습\n",
    "vae_train_loss =[]\n",
    "VAE.train()\n",
    "for ep in range(1, 10 +1):\n",
    "    running_loss =0.0\n",
    "    for x in data_iter:\n",
    "        ## 매개변수 0으로 초기화\n",
    "        Adam.zero_grad()\n",
    "        x = torch.tensor(x,dtype=torch.float32)\n",
    "        loss = VAE.forward(x)\n",
    "        \n",
    "        #loss += MSELoss(output,x)\n",
    "        loss.backward()\n",
    "        \n",
    "        \n",
    "        Adam.step()\n",
    "        running_loss += loss.item()\n",
    "    vae_train_loss.append(running_loss/batch_size)\n",
    "    ## 각 에포크마다 손실 값 표기\n",
    "    if ep%10==0:\n",
    "        print(\"epoch: {}, loss: {:.2f}\".format(ep, running_loss))"
   ]
  },
  {
   "cell_type": "code",
   "execution_count": 12,
   "id": "b2130e75",
   "metadata": {
    "execution": {
     "iopub.execute_input": "2022-10-21T02:14:52.041320Z",
     "iopub.status.busy": "2022-10-21T02:14:52.040977Z",
     "iopub.status.idle": "2022-10-21T02:14:52.243818Z",
     "shell.execute_reply": "2022-10-21T02:14:52.242885Z"
    },
    "papermill": {
     "duration": 0.211492,
     "end_time": "2022-10-21T02:14:52.245825",
     "exception": false,
     "start_time": "2022-10-21T02:14:52.034333",
     "status": "completed"
    },
    "tags": []
   },
   "outputs": [
    {
     "data": {
      "text/plain": [
       "[<matplotlib.lines.Line2D at 0x7f2f50e2cbd0>]"
      ]
     },
     "execution_count": 12,
     "metadata": {},
     "output_type": "execute_result"
    },
    {
     "data": {
      "image/png": "[encoded data removed]",
      "text/plain": [
       "<Figure size 432x288 with 1 Axes>"
      ]
     },
     "metadata": {
      "needs_background": "light"
     },
     "output_type": "display_data"
    }
   ],
   "source": [
    "plt.plot(vae_train_loss)"
   ]
  },
  {
   "cell_type": "code",
   "execution_count": 13,
   "id": "2f749fcf",
   "metadata": {
    "execution": {
     "iopub.execute_input": "2022-10-21T02:14:52.257030Z",
     "iopub.status.busy": "2022-10-21T02:14:52.256720Z",
     "iopub.status.idle": "2022-10-21T02:14:52.469442Z",
     "shell.execute_reply": "2022-10-21T02:14:52.468369Z"
    },
    "papermill": {
     "duration": 0.220771,
     "end_time": "2022-10-21T02:14:52.471714",
     "exception": false,
     "start_time": "2022-10-21T02:14:52.250943",
     "status": "completed"
    },
    "tags": []
   },
   "outputs": [
    {
     "data": {
      "text/plain": [
       "<matplotlib.image.AxesImage at 0x7f2f41ed4d50>"
      ]
     },
     "execution_count": 13,
     "metadata": {},
     "output_type": "execute_result"
    },
    {
     "data": {
      "image/png": "[encoded data removed]",
      "text/plain": [
       "<Figure size 432x288 with 1 Axes>"
      ]
     },
     "metadata": {
      "needs_background": "light"
     },
     "output_type": "display_data"
    }
   ],
   "source": [
    "plt.imshow(VAE.forwardV2(torch.FloatTensor(train_imgs[:3]))[0,0,:,:].detach().numpy())"
   ]
  },
  {
   "cell_type": "code",
   "execution_count": null,
   "id": "d765ed4b",
   "metadata": {
    "execution": {
     "iopub.execute_input": "2022-10-21T02:09:40.929709Z",
     "iopub.status.busy": "2022-10-21T02:09:40.929327Z",
     "iopub.status.idle": "2022-10-21T02:09:40.937878Z",
     "shell.execute_reply": "2022-10-21T02:09:40.936178Z",
     "shell.execute_reply.started": "2022-10-21T02:09:40.929652Z"
    },
    "papermill": {
     "duration": 0.004693,
     "end_time": "2022-10-21T02:14:52.481190",
     "exception": false,
     "start_time": "2022-10-21T02:14:52.476497",
     "status": "completed"
    },
    "tags": []
   },
   "outputs": [],
   "source": []
  },
  {
   "cell_type": "code",
   "execution_count": null,
   "id": "e3c2b686",
   "metadata": {
    "papermill": {
     "duration": 0.00465,
     "end_time": "2022-10-21T02:14:52.490392",
     "exception": false,
     "start_time": "2022-10-21T02:14:52.485742",
     "status": "completed"
    },
    "tags": []
   },
   "outputs": [],
   "source": []
  }
 ],
 "metadata": {
  "kernelspec": {
   "display_name": "Python 3",
   "language": "python",
   "name": "python3"
  },
  "language_info": {
   "codemirror_mode": {
    "name": "ipython",
    "version": 3
   },
   "file_extension": ".py",
   "mimetype": "text/x-python",
   "name": "python",
   "nbconvert_exporter": "python",
   "pygments_lexer": "ipython3",
   "version": "3.7.12"
  },
  "papermill": {
   "default_parameters": {},
   "duration": 20.084548,
   "end_time": "2022-10-21T02:14:53.517281",
   "environment_variables": {},
   "exception": null,
   "input_path": "__notebook__.ipynb",
   "output_path": "__notebook__.ipynb",
   "parameters": {},
   "start_time": "2022-10-21T02:14:33.432733",
   "version": "2.3.4"
  }
 },
 "nbformat": 4,
 "nbformat_minor": 5
}
