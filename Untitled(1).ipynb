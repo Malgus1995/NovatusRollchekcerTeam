{
 "cells": [
  {
   "cell_type": "code",
   "execution_count": 58,
   "id": "b5ec866d",
   "metadata": {},
   "outputs": [],
   "source": [
    "import os \n",
    "import numpy as np\n",
    "import matplotlib.pyplot as plt\n",
    "import cv2\n",
    "import torch.nn as nn\n",
    "import torch\n",
    "import torch.nn.functional as F\n",
    "from torch.utils.data import DataLoader\n",
    "from torch.utils.data import TensorDataset"
   ]
  },
  {
   "cell_type": "code",
   "execution_count": 59,
   "id": "c47fd4e6",
   "metadata": {},
   "outputs": [],
   "source": [
    "#PC의 GPU 사용 \n",
    "os.environ[\"CUDA_DEVICE_ORDER\"]=\"PCI_BUS_ID\"\n",
    "os.environ[\"CUDA_VISIBLE_DEVICES\"]=\"1\""
   ]
  },
  {
   "cell_type": "code",
   "execution_count": 60,
   "id": "7c14f5e1",
   "metadata": {},
   "outputs": [],
   "source": [
    "base_path = './Data preprocessed/CSM1'"
   ]
  },
  {
   "cell_type": "code",
   "execution_count": 61,
   "id": "441bf050",
   "metadata": {},
   "outputs": [],
   "source": [
    "\n",
    "#False_path = os.path.join('../input/rollcheckerteam','9f')\n",
    "False_path = os.path.join(base_path,\"9f\")\n",
    "False_file_list = [os.path.join(False_path,file) for file in os.listdir(False_path)]\n",
    "#True_path = os.path.join('../input/rollcheckerteam','9')\n",
    "True_path = os.path.join(base_path,\"9\")\n",
    "True_file_list = [os.path.join(True_path,file) for file in os.listdir(True_path)]"
   ]
  },
  {
   "cell_type": "code",
   "execution_count": 62,
   "id": "8b4524e8",
   "metadata": {},
   "outputs": [],
   "source": [
    "train_imgs = np.zeros((len(True_file_list),1,28,28))\n",
    "\n",
    "for idx,img in enumerate(True_file_list):\n",
    "    tmp_grayscale_img = cv2.imread(img,cv2.IMREAD_GRAYSCALE)\n",
    "    tmp_grayscale_img = cv2.resize(tmp_grayscale_img,(28,28))/255\n",
    "    train_imgs[idx,0,:,:] = tmp_grayscale_img"
   ]
  },
  {
   "cell_type": "code",
   "execution_count": 63,
   "id": "ba97605b",
   "metadata": {},
   "outputs": [
    {
     "data": {
      "text/plain": [
       "(124, 1, 28, 28)"
      ]
     },
     "execution_count": 63,
     "metadata": {},
     "output_type": "execute_result"
    }
   ],
   "source": [
    "# in[4]\n",
    "train_imgs.shape"
   ]
  },
  {
   "cell_type": "code",
   "execution_count": 64,
   "id": "e2c06a66",
   "metadata": {},
   "outputs": [],
   "source": [
    "input_size =28\n",
    "hidden_size = [28,64,128,128,256]\n",
    "output_size =4\n",
    "batch_size=16\n"
   ]
  },
  {
   "cell_type": "code",
   "execution_count": 65,
   "id": "232c13c9",
   "metadata": {},
   "outputs": [],
   "source": [
    "#in[7]\n",
    "kernel_size = 4\n",
    "stride = 1\n",
    "padding = 0\n",
    "init_kernel = 16"
   ]
  },
  {
   "cell_type": "code",
   "execution_count": 66,
   "id": "b11185c4",
   "metadata": {},
   "outputs": [],
   "source": [
    "## AutoEncoder 클래스 구현 \n",
    "class VariationalAutoEncoder(nn.Module):\n",
    "    def __init__(self, input_size, hidden_size, output_size):\n",
    "        super(VariationalAutoEncoder, self).__init__()\n",
    "        ## initialize\n",
    "        self.input_size = input_size\n",
    "        self.hidden_size = hidden_size\n",
    "        self.output_size = output_size\n",
    "        self.Relu = nn.RReLU()\n",
    "        self.flatten = nn.Flatten()\n",
    "        ##오토인코더 구현\n",
    "        \n",
    "        self.fc_mu = nn.Linear(output_size,output_size)\n",
    "        self.fc_var =nn.Linear(output_size,output_size)\n",
    "        \n",
    "        ## 인코더 부분\n",
    "        self.input_en_layer = nn.Conv2d(\n",
    "            in_channels=1, out_channels=init_kernel, kernel_size=kernel_size, \n",
    "            stride=stride, padding=padding)\n",
    "        #self.bn1 = nn.BatchNorm2d(hidden_size[0])\n",
    "        self.input_en_layer_2 = nn.Conv2d(\n",
    "            in_channels=init_kernel, out_channels=init_kernel*2, kernel_size=kernel_size, \n",
    "            stride=stride, padding=padding\n",
    "        )\n",
    "        #self.bn2 = nn.BatchNorm2d(hidden_size[1])\n",
    "        self.input_en_layer_3 = nn.Conv2d(\n",
    "            in_channels=init_kernel*2, out_channels=init_kernel*4, kernel_size=kernel_size, \n",
    "            stride=stride, padding=padding\n",
    "        )\n",
    "        #self.bn3 = nn.BatchNorm2d(hidden_size[2])\n",
    "        self.input_en_layer_4 = nn.Conv2d(\n",
    "            in_channels=init_kernel*4, out_channels=init_kernel*8, kernel_size=kernel_size, \n",
    "            stride=stride, padding=padding\n",
    "        )\n",
    "        #self.bn4 = nn.BatchNorm2d(hidden_size[3])\n",
    "        self.input_en_layer_5 = nn.Conv2d(\n",
    "            in_channels=init_kernel*8, out_channels=init_kernel, kernel_size=kernel_size, \n",
    "            stride=stride, padding=padding\n",
    "        )\n",
    "        #self.bn5 = nn.BatchNorm2d(hidden_size[4])\n",
    "        self.output_en_layer = nn.Linear(32768, output_size)\n",
    "        \n",
    "        #log_var = \n",
    "        \n",
    "        ## 디코더 부분\n",
    "        self.input_dic_layer = nn.ConvTranspose2d(\n",
    "            in_channels=1, out_channels=init_kernel*8, kernel_size=2, \n",
    "            stride=stride, padding=padding\n",
    "        )\n",
    "        self.input_dic_layer_5 = nn.ConvTranspose2d(\n",
    "            in_channels=init_kernel, out_channels=init_kernel*8, kernel_size=kernel_size, \n",
    "            stride=stride, padding=padding\n",
    "        )\n",
    "        self\n",
    "        self.input_dic_layer_4 = nn.ConvTranspose2d(\n",
    "            in_channels=init_kernel*8, out_channels=init_kernel*4, kernel_size=kernel_size, \n",
    "            stride=stride, padding=padding\n",
    "        )\n",
    "        self.input_dic_layer_3 = nn.ConvTranspose2d(\n",
    "            in_channels=init_kernel*4, out_channels=init_kernel*2, kernel_size=kernel_size, \n",
    "            stride=stride, padding=padding\n",
    "        )\n",
    "        self.input_dic_layer_2 = nn.ConvTranspose2d(\n",
    "            in_channels=init_kernel*2, out_channels=init_kernel, kernel_size=kernel_size, \n",
    "            stride=stride, padding=padding\n",
    "        )\n",
    "        \n",
    "        self.output_dic_layer = nn.ConvTranspose2d(\n",
    "            in_channels=16, out_channels=1, kernel_size=kernel_size, \n",
    "            stride=2, padding=padding\n",
    "        )\n",
    "        \n",
    "        self.log_scale = nn.Parameter(torch.Tensor([0.0]))\n",
    "        self.mu = 0\n",
    "        self.z = 0\n",
    "        self.log_var = 0\n",
    "        \n",
    "        \n",
    "    def encode(self,inputs):\n",
    "        x = (self.input_en_layer(inputs))\n",
    "        x = self.Relu(x)\n",
    "        \n",
    "        x = (self.input_en_layer_2(x))\n",
    "        x = self.Relu(x)\n",
    "\n",
    "        x = (self.input_en_layer_3(x))\n",
    "\n",
    "        x = self.Relu(x)\n",
    "        x = (self.input_en_layer_4(x))\n",
    "        x = self.Relu(x)\n",
    "        x = self.flatten(x)\n",
    "        output = self.output_en_layer(x) \n",
    "        \n",
    "        return output\n",
    "    \n",
    "    def decode(self,output):\n",
    "        output = self.input_dic_layer(output)\n",
    "        output = (self.input_dic_layer_4(output))\n",
    "        output = self.Relu(output)\n",
    "        output = (self.input_dic_layer_3(output))\n",
    "        output = self.Relu(output)\n",
    "        output = (self.input_dic_layer_2(output))\n",
    "        output = self.Relu(output)\n",
    "        \n",
    "        output = self.output_dic_layer(output)\n",
    "        output = nn.ZeroPad2d(1)(output)\n",
    "        \n",
    "        \n",
    "        return output\n",
    "    \n",
    "    def gaussian_likelihood(self,x_hat,x):\n",
    "        scale=  torch.exp(torch.tensor(self.log_scale))\n",
    "        mean = x_hat\n",
    "        dist = torch.distributions.Normal(mean,scale)\n",
    "        \n",
    "        log_pxz = dist.log_prob(x)\n",
    "        \n",
    "        return log_pxz.sum(dim=(1))\n",
    "        \n",
    " \n",
    "    def kl_divergence(self, z, mu, std):\n",
    "        # --------------------------\n",
    "        # Monte carlo KL divergence\n",
    "        # --------------------------\n",
    "        # 1. define the first two probabilities (in this case Normal for both)\n",
    "        p = torch.distributions.Normal(torch.zeros_like(mu), torch.ones_like(std))\n",
    "        q = torch.distributions.Normal(mu, std)\n",
    "\n",
    "        # 2. get the probabilities from the equation\n",
    "        log_qzx = q.log_prob(z)\n",
    "        log_pz = p.log_prob(z)\n",
    "\n",
    "        # kl\n",
    "        kl = (log_qzx - log_pz)\n",
    "\n",
    "        # sum over last dim to go from single dim distribution to multi-dim\n",
    "        kl = kl.sum(-1)\n",
    "        return kl\n",
    "    \n",
    "    def forwardV2(self, inputs): \n",
    "        output = self.encode(inputs)\n",
    "        self.mu = self.fc_mu(output)\n",
    "        self.log_var = self.fc_var(output)\n",
    "        std = torch.exp(self.log_var/2)\n",
    "        q = torch.distributions.Normal(self.mu,std)\n",
    "        z = q.rsample()\n",
    "        z = z.view([-1,1,2,2])\n",
    "        \n",
    "        x_hat = self.decode(z)\n",
    "\n",
    "        \n",
    "        return x_hat\n",
    "    \n",
    "    \n",
    "    def forward(self, inputs): \n",
    "        output = self.encode(inputs)\n",
    "        self.mu = self.fc_mu(output)\n",
    "        self.log_var = self.fc_var(output)\n",
    "        std = torch.exp(self.log_var/2)\n",
    "        q = torch.distributions.Normal(self.mu,std)\n",
    "        z = q.rsample()\n",
    "        z = z.view([-1,1,2,2])\n",
    "        \n",
    "        x_hat = self.decode(z)\n",
    "        recon_loss = self.gaussian_likelihood(x_hat,inputs)\n",
    "        z = z.view([-1,4])\n",
    "        kl =  self.kl_divergence(z,self.mu,std)\n",
    "        elbo = (kl - recon_loss.mean(dim=1).mean(dim=1))\n",
    "        elbo = elbo.mean()\n",
    "        \n",
    "        return elbo\n",
    "    "
   ]
  },
  {
   "cell_type": "code",
   "execution_count": 67,
   "id": "31cb7ba8",
   "metadata": {},
   "outputs": [],
   "source": [
    "MSELoss = nn.MSELoss()\n",
    "## 매개변수 조정 방식으로 Adam사용\n",
    "optimizer = torch.optim.Adam\n",
    "VAE = VariationalAutoEncoder(input_size,hidden_size, output_size)\n",
    "optim = optimizer(VAE.parameters())"
   ]
  },
  {
   "cell_type": "code",
   "execution_count": 68,
   "id": "2096b2f8",
   "metadata": {},
   "outputs": [],
   "source": [
    "train_dataloader = DataLoader(train_imgs, batch_size=16,\n",
    "                                         shuffle=True)"
   ]
  },
  {
   "cell_type": "code",
   "execution_count": 69,
   "id": "5c5406a6",
   "metadata": {},
   "outputs": [
    {
     "name": "stderr",
     "output_type": "stream",
     "text": [
      "C:\\Users\\john\\AppData\\Local\\Temp\\ipykernel_9104\\296985819.py:13: UserWarning: To copy construct from a tensor, it is recommended to use sourceTensor.clone().detach() or sourceTensor.clone().detach().requires_grad_(True), rather than torch.tensor(sourceTensor).\n",
      "  x = torch.tensor(x,dtype=torch.float32)\n",
      "C:\\Users\\john\\AppData\\Local\\Temp\\ipykernel_9104\\4179058485.py:112: UserWarning: To copy construct from a tensor, it is recommended to use sourceTensor.clone().detach() or sourceTensor.clone().detach().requires_grad_(True), rather than torch.tensor(sourceTensor).\n",
      "  scale=  torch.exp(torch.tensor(self.log_scale))\n"
     ]
    },
    {
     "name": "stdout",
     "output_type": "stream",
     "text": [
      "epoch: 10, loss: 10.54\n",
      "epoch: 20, loss: 9.44\n",
      "epoch: 30, loss: 8.83\n",
      "epoch: 40, loss: 8.62\n",
      "epoch: 50, loss: 8.61\n",
      "epoch: 60, loss: 8.58\n",
      "epoch: 70, loss: 8.44\n",
      "epoch: 80, loss: 8.24\n",
      "epoch: 90, loss: 8.62\n",
      "epoch: 100, loss: 8.54\n"
     ]
    }
   ],
   "source": [
    "Adam = optimizer(VAE.parameters(), lr =0.0001,weight_decay=0.00005)\n",
    "## 배치 학습을 시키기 위한 데이터 변환\n",
    "data_iter = train_dataloader\n",
    "## 에포크 학습\n",
    "vae_train_loss =[]\n",
    "VAE.train()\n",
    "#epoch 수 수정\n",
    "for ep in range(1, 100 +1):\n",
    "    running_loss =0.0\n",
    "    for x in data_iter:\n",
    "        ## 매개변수 0으로 초기화\n",
    "        Adam.zero_grad()\n",
    "        x = torch.tensor(x,dtype=torch.float32)\n",
    "        loss = VAE.forward(x)\n",
    "        \n",
    "        #loss += MSELoss(output,x)\n",
    "        loss.backward()\n",
    "        \n",
    "        \n",
    "        Adam.step()\n",
    "        running_loss += loss.item()\n",
    "    vae_train_loss.append(running_loss/batch_size)\n",
    "    ## 각 에포크마다 손실 값 표기\n",
    "    if ep%10==0:\n",
    "        print(\"epoch: {}, loss: {:.2f}\".format(ep, running_loss))"
   ]
  },
  {
   "cell_type": "code",
   "execution_count": 70,
   "id": "b2461e04",
   "metadata": {},
   "outputs": [
    {
     "data": {
      "text/plain": [
       "[<matplotlib.lines.Line2D at 0x1f65b61e020>]"
      ]
     },
     "execution_count": 70,
     "metadata": {},
     "output_type": "execute_result"
    },
    {
     "data": {
      "image/png": "[encoded data removed]",
      "text/plain": [
       "<Figure size 640x480 with 1 Axes>"
      ]
     },
     "metadata": {},
     "output_type": "display_data"
    }
   ],
   "source": [
    "plt.plot(vae_train_loss)"
   ]
  },
  {
   "cell_type": "code",
   "execution_count": 71,
   "id": "5fcabd5f",
   "metadata": {},
   "outputs": [
    {
     "data": {
      "text/plain": [
       "<matplotlib.image.AxesImage at 0x1f65b43c520>"
      ]
     },
     "execution_count": 71,
     "metadata": {},
     "output_type": "execute_result"
    },
    {
     "data": {
      "image/png": "[encoded data removed]",
      "text/plain": [
       "<Figure size 640x480 with 1 Axes>"
      ]
     },
     "metadata": {},
     "output_type": "display_data"
    }
   ],
   "source": [
    "plt.imshow(VAE.forwardV2(torch.FloatTensor(train_imgs[:3]))[0,0,:,:].detach().numpy())"
   ]
  }
 ],
 "metadata": {
  "kernelspec": {
   "display_name": "Python 3.10.6 64-bit",
   "language": "python",
   "name": "python3"
  },
  "language_info": {
   "codemirror_mode": {
    "name": "ipython",
    "version": 3
   },
   "file_extension": ".py",
   "mimetype": "text/x-python",
   "name": "python",
   "nbconvert_exporter": "python",
   "pygments_lexer": "ipython3",
   "version": "3.10.6"
  },
  "vscode": {
   "interpreter": {
    "hash": "64591c546c6db0157161b004a89ee09f30b0183a8a3f69406b4acd4930c24408"
   }
  }
 },
 "nbformat": 4,
 "nbformat_minor": 5
}
