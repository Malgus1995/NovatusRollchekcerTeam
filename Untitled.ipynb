{
 "cells": [
  {
   "cell_type": "code",
   "execution_count": 80,
   "id": "b5ec866d",
   "metadata": {},
   "outputs": [],
   "source": [
    "import os \n",
    "import numpy as np\n",
    "import matplotlib.pyplot as plt\n",
    "import cv2\n",
    "import torch.nn as nn\n",
    "import torch\n",
    "import torch.nn.functional as F\n",
    "from torch.utils.data import DataLoader\n",
    "from torch.utils.data import TensorDataset\n",
    "from PIL import Image, ImageFilter"
   ]
  },
  {
   "cell_type": "code",
   "execution_count": 81,
   "id": "c47fd4e6",
   "metadata": {},
   "outputs": [],
   "source": [
    "#PC의 GPU 사용 \n",
    "os.environ[\"CUDA_DEVICE_ORDER\"]=\"PCI_BUS_ID\"\n",
    "os.environ[\"CUDA_VISIBLE_DEVICES\"]=\"1\""
   ]
  },
  {
   "cell_type": "code",
   "execution_count": 82,
   "id": "7c14f5e1",
   "metadata": {},
   "outputs": [],
   "source": [
    "base_path = './Data preprocessed/CSM1'"
   ]
  },
  {
   "cell_type": "code",
   "execution_count": 83,
   "id": "441bf050",
   "metadata": {},
   "outputs": [],
   "source": [
    "folder_list = os.listdir('./Data preprocessed/CSM1')\n",
    "practice_folder_list=[]\n",
    "\n",
    "for fd in folder_list:\n",
    "    if '9' in fd:\n",
    "        practice_folder_list.append(fd)\n",
    "practice_folder_list =[os.path.join(base_path,pfl) for pfl in practice_folder_list]\n",
    "\n",
    "true_img_list = [os.path.join(practice_folder_list[0],tip) for tip in os.listdir(practice_folder_list[0])]\n",
    "false_img_list = [os.path.join(practice_folder_list[1],tip) for tip in os.listdir(practice_folder_list[1])]"
   ]
  },
  {
   "cell_type": "code",
   "execution_count": 84,
   "id": "8b4524e8",
   "metadata": {},
   "outputs": [
    {
     "data": {
      "text/plain": [
       "'./Data preprocessed/CSM1\\\\9\\\\_g10.png'"
      ]
     },
     "execution_count": 84,
     "metadata": {},
     "output_type": "execute_result"
    }
   ],
   "source": [
    "true_img_list[0]"
   ]
  },
  {
   "cell_type": "code",
   "execution_count": 85,
   "id": "b9006315",
   "metadata": {},
   "outputs": [],
   "source": [
    "#이미지 전처리 추가\n",
    "#해상도를 낮추거나 블러 필터를 적용한다?\n",
    "#이미지 불러오기\n",
    "\n",
    "# image1 = Image.open(true_img_list[0])\n",
    " \n",
    "# image1.show()\n",
    " \n",
    "# #이미지 blur 필터 적용\n",
    "# blurI = image1.filter(ImageFilter.BLUR)\n",
    " \n",
    "# blurI.show()\n",
    " \n",
    "# blurI.save(true_img_list[0])\n"
   ]
  },
  {
   "cell_type": "code",
   "execution_count": 86,
   "id": "9980b564",
   "metadata": {},
   "outputs": [
    {
     "data": {
      "text/plain": [
       "['./Data preprocessed/CSM1\\\\9f\\\\_g107.png',\n",
       " './Data preprocessed/CSM1\\\\9f\\\\_g111.png',\n",
       " './Data preprocessed/CSM1\\\\9f\\\\_g112.png',\n",
       " './Data preprocessed/CSM1\\\\9f\\\\_g114.png',\n",
       " './Data preprocessed/CSM1\\\\9f\\\\_g116.png',\n",
       " './Data preprocessed/CSM1\\\\9f\\\\_g123.png',\n",
       " './Data preprocessed/CSM1\\\\9f\\\\_g28.png',\n",
       " './Data preprocessed/CSM1\\\\9f\\\\_g31.png',\n",
       " './Data preprocessed/CSM1\\\\9f\\\\_g33.png',\n",
       " './Data preprocessed/CSM1\\\\9f\\\\_g38.png',\n",
       " './Data preprocessed/CSM1\\\\9f\\\\_g39.png',\n",
       " './Data preprocessed/CSM1\\\\9f\\\\_g40.png',\n",
       " './Data preprocessed/CSM1\\\\9f\\\\_g42.png',\n",
       " './Data preprocessed/CSM1\\\\9f\\\\_g58.png',\n",
       " './Data preprocessed/CSM1\\\\9f\\\\_g60.png',\n",
       " './Data preprocessed/CSM1\\\\9f\\\\_g90.png']"
      ]
     },
     "execution_count": 86,
     "metadata": {},
     "output_type": "execute_result"
    }
   ],
   "source": [
    "false_img_list"
   ]
  },
  {
   "cell_type": "code",
   "execution_count": 87,
   "id": "79f03857",
   "metadata": {},
   "outputs": [],
   "source": [
    "zzz =cv2.imread(true_img_list[0],cv2.IMREAD_GRAYSCALE)"
   ]
  },
  {
   "cell_type": "code",
   "execution_count": 88,
   "id": "e2c06a66",
   "metadata": {},
   "outputs": [],
   "source": [
    "image_resol = 200\n",
    "train_imgs = np.zeros((len(true_img_list),1,image_resol,image_resol))\n",
    "\n",
    "for idx,img in enumerate(true_img_list):\n",
    "    tmp_grayscale_img = cv2.imread(img,cv2.IMREAD_GRAYSCALE)\n",
    "    tmp_grayscale_img = cv2.resize(tmp_grayscale_img,(image_resol,image_resol))\n",
    "    train_imgs[idx,0,:,:] = tmp_grayscale_img\n",
    "    "
   ]
  },
  {
   "cell_type": "code",
   "execution_count": 89,
   "id": "232c13c9",
   "metadata": {},
   "outputs": [],
   "source": [
    "kernel_size = 4\n",
    "stride = 1\n",
    "padding = 0\n",
    "init_kernel = 16\n",
    "\n",
    "class VAE(nn.Module):\n",
    "    def __init__(self):\n",
    "        super(VAE, self).__init__()\n",
    " \n",
    "        # encoder\n",
    "        self.enc1 = nn.Conv2d(\n",
    "            in_channels=1, out_channels=init_kernel, kernel_size=kernel_size, \n",
    "            stride=stride, padding=padding\n",
    "        )\n",
    "        self.enc2 = nn.Conv2d(\n",
    "            in_channels=init_kernel, out_channels=init_kernel*2, kernel_size=kernel_size, \n",
    "            stride=stride, padding=padding\n",
    "        )\n",
    "        self.enc3 = nn.Conv2d(\n",
    "            in_channels=init_kernel*2, out_channels=init_kernel*4, kernel_size=kernel_size, \n",
    "            stride=stride, padding=padding\n",
    "        )\n",
    "        self.enc4 = nn.Conv2d(\n",
    "            in_channels=init_kernel*4, out_channels=init_kernel*8, kernel_size=kernel_size, \n",
    "            stride=stride, padding=padding\n",
    "        )\n",
    "        self.enc5 = nn.Conv2d(\n",
    "            in_channels=init_kernel*8, out_channels=init_kernel, kernel_size=kernel_size, \n",
    "            stride=stride, padding=padding\n",
    "        )\n",
    "\n",
    "        # decoder \n",
    "        self.dec1 = nn.ConvTranspose2d(\n",
    "            in_channels=init_kernel, out_channels=init_kernel*8, kernel_size=kernel_size, \n",
    "            stride=stride, padding=padding\n",
    "        )\n",
    "        self.dec2 = nn.ConvTranspose2d(\n",
    "            in_channels=init_kernel*8, out_channels=init_kernel*4, kernel_size=kernel_size, \n",
    "            stride=stride, padding=padding\n",
    "        )\n",
    "        self.dec3 = nn.ConvTranspose2d(\n",
    "            in_channels=init_kernel*4, out_channels=init_kernel*2, kernel_size=kernel_size, \n",
    "            stride=stride, padding=padding\n",
    "        )\n",
    "        self.dec4 = nn.ConvTranspose2d(\n",
    "            in_channels=init_kernel*2, out_channels=init_kernel, kernel_size=kernel_size, \n",
    "            stride=stride, padding=padding\n",
    "        )\n",
    "        self.dec5 = nn.ConvTranspose2d(\n",
    "            in_channels=init_kernel, out_channels=1, kernel_size=kernel_size, \n",
    "            stride=stride, padding=padding\n",
    "        )\n",
    "\n",
    "    def reparameterize(self, mu, log_var):\n",
    "        \"\"\"\n",
    "        :param mu: mean from the encoder's latent space\n",
    "        :param log_var: log variance from the encoder's latent space\n",
    "        \"\"\"\n",
    "        std = torch.exp(0.5*log_var) # standard deviation\n",
    "        eps = torch.randn_like(std) # `randn_like` as we need the same size\n",
    "        sample = mu + (eps * std) # sampling\n",
    "        return sample\n",
    " \n",
    "    def forward(self, x):\n",
    "        # encoding\n",
    "        x = F.relu(self.enc1(x))\n",
    "        x = F.relu(self.enc2(x))\n",
    "        x = F.relu(self.enc3(x))\n",
    "        x = F.relu(self.enc4(x))\n",
    "        x = self.enc5(x)\n",
    "\n",
    "        # get `mu` and `log_var`\n",
    "        mu = x\n",
    "        log_var = x\n",
    "\n",
    "        # get the latent vector through reparameterization\n",
    "        z = self.reparameterize(mu, log_var)\n",
    " \n",
    "        # decoding\n",
    "        x = F.relu(self.dec1(z))\n",
    "        x = F.relu(self.dec2(x))\n",
    "        x = F.relu(self.dec3(x))\n",
    "        x = F.relu(self.dec4(x))\n",
    "        reconstruction = torch.sigmoid(self.dec5(x))\n",
    "        return reconstruction, mu, log_var"
   ]
  },
  {
   "cell_type": "code",
   "execution_count": 90,
   "id": "b11185c4",
   "metadata": {},
   "outputs": [],
   "source": [
    "vae = VAE()\n",
    "optimizer = torch.optim.Adam(params=vae.parameters(), lr=0.0001, weight_decay=1e-5)\n",
    "def vae_loss(recon_x,x,mu,log_var):\n",
    "    \n",
    "    def gaussian_likelihood(x_hat,x):\n",
    "        log_scale = nn.Parameter(torch.Tensor([0.0]))\n",
    "        scale=  torch.exp(torch.tensor(log_scale))\n",
    "        mean = x_hat\n",
    "        dist = torch.distributions.Normal(mean,scale)\n",
    "        \n",
    "        log_pxz = dist.log_prob(x)\n",
    "        \n",
    "        return log_pxz.sum(dim=(1))\n",
    "    \n",
    "    \n",
    "    recon_loss = gaussian_likelihood(recon_x.view(-1,1,image_resol,image_resol), x.view(-1, 1,image_resol,image_resol))\n",
    "    kl_loss = -0.5 * torch.sum(1 + log_var - mu.pow(2) - log_var.exp())\n",
    "    return (recon_loss + kl_loss).mean()"
   ]
  },
  {
   "cell_type": "code",
   "execution_count": 91,
   "id": "5c5406a6",
   "metadata": {},
   "outputs": [],
   "source": [
    "def fit(model, dataloader,epochs):\n",
    "    criterion = nn.MSELoss()\n",
    "    model.train()\n",
    "    running_loss = 0.0\n",
    "    for epoch in range(0,epochs): \n",
    "        print(f\"Epoch {epoch+1}\")\n",
    "        for i,data in enumerate(dataloader): \n",
    "            optimizer.zero_grad()\n",
    "            data =  torch.tensor(data, dtype = torch.float32)\n",
    "            reconstruction, mu, logvar = model(data)\n",
    "            loss = criterion(reconstruction,data)\n",
    "            #loss = vae_loss(reconstruction,data, mu, logvar)\n",
    "            loss.backward()\n",
    "            running_loss += loss.item()\n",
    "            optimizer.step()\n",
    "        train_loss = running_loss/len(dataloader.dataset)\n",
    "        print(f\"Train Loss: {train_loss:.4f}\")\n",
    "    return train_loss"
   ]
  },
  {
   "cell_type": "code",
   "execution_count": 92,
   "id": "3bd669d1",
   "metadata": {},
   "outputs": [],
   "source": [
    "train_dataloader = DataLoader(train_imgs, batch_size=16,\n",
    "                                         shuffle=True)"
   ]
  },
  {
   "cell_type": "code",
   "execution_count": 93,
   "id": "dadbf407",
   "metadata": {},
   "outputs": [
    {
     "name": "stdout",
     "output_type": "stream",
     "text": [
      "Epoch 1\n"
     ]
    },
    {
     "name": "stderr",
     "output_type": "stream",
     "text": [
      "C:\\Users\\john\\AppData\\Local\\Temp\\ipykernel_48436\\978004405.py:9: UserWarning: To copy construct from a tensor, it is recommended to use sourceTensor.clone().detach() or sourceTensor.clone().detach().requires_grad_(True), rather than torch.tensor(sourceTensor).\n",
      "  data =  torch.tensor(data, dtype = torch.float32)\n"
     ]
    },
    {
     "name": "stdout",
     "output_type": "stream",
     "text": [
      "Train Loss: 4105.6247\n",
      "Epoch 2\n",
      "Train Loss: 8209.7012\n",
      "Epoch 3\n",
      "Train Loss: 12313.7411\n",
      "Epoch 4\n",
      "Train Loss: 16417.7532\n",
      "Epoch 5\n",
      "Train Loss: 20521.7689\n",
      "Epoch 6\n",
      "Train Loss: 24625.7745\n",
      "Epoch 7\n",
      "Train Loss: 28729.7844\n",
      "Epoch 8\n",
      "Train Loss: 32833.8419\n",
      "Epoch 9\n",
      "Train Loss: 36937.9051\n",
      "Epoch 10\n",
      "Train Loss: 41041.9556\n"
     ]
    },
    {
     "data": {
      "text/plain": [
       "41041.95564516129"
      ]
     },
     "execution_count": 93,
     "metadata": {},
     "output_type": "execute_result"
    }
   ],
   "source": [
    "fit(vae,train_dataloader,10)"
   ]
  },
  {
   "cell_type": "code",
   "execution_count": 94,
   "id": "c65e1e6c",
   "metadata": {},
   "outputs": [],
   "source": [
    "#res = vae.forward(torch.tentrain_imgs[0],torch.tensor(data, dtype = torch.float32).view((1,1,28,28)))\n",
    "res = vae.forward(torch.tensor(train_imgs[0], dtype = torch.float32).view((1,1,image_resol,image_resol)))"
   ]
  },
  {
   "cell_type": "code",
   "execution_count": 95,
   "id": "b1af12b6",
   "metadata": {},
   "outputs": [
    {
     "data": {
      "text/plain": [
       "torch.Size([1, 1, 200, 200])"
      ]
     },
     "execution_count": 95,
     "metadata": {},
     "output_type": "execute_result"
    }
   ],
   "source": [
    "res[0].shape"
   ]
  },
  {
   "cell_type": "code",
   "execution_count": 96,
   "id": "1f526209",
   "metadata": {},
   "outputs": [
    {
     "data": {
      "text/plain": [
       "<matplotlib.image.AxesImage at 0x1e812aeb610>"
      ]
     },
     "execution_count": 96,
     "metadata": {},
     "output_type": "execute_result"
    },
    {
     "data": {
      "image/png": "[encoded data removed]",
      "text/plain": [
       "<Figure size 640x480 with 1 Axes>"
      ]
     },
     "metadata": {},
     "output_type": "display_data"
    }
   ],
   "source": [
    "plt.imshow(res[0][0][0].detach().numpy())"
   ]
  },
  {
   "cell_type": "code",
   "execution_count": 97,
   "id": "33f62198",
   "metadata": {},
   "outputs": [
    {
     "data": {
      "text/plain": [
       "array([[1., 1., 1., ..., 1., 0., 0.],\n",
       "       [1., 1., 0., ..., 1., 1., 0.],\n",
       "       [1., 1., 1., ..., 1., 1., 1.],\n",
       "       ...,\n",
       "       [1., 1., 1., ..., 1., 0., 1.],\n",
       "       [1., 1., 1., ..., 1., 0., 0.],\n",
       "       [1., 0., 1., ..., 0., 1., 0.]], dtype=float32)"
      ]
     },
     "execution_count": 97,
     "metadata": {},
     "output_type": "execute_result"
    }
   ],
   "source": [
    "res[0][0][0].detach().numpy()"
   ]
  }
 ],
 "metadata": {
  "kernelspec": {
   "display_name": "Python 3.10.6 64-bit",
   "language": "python",
   "name": "python3"
  },
  "language_info": {
   "codemirror_mode": {
    "name": "ipython",
    "version": 3
   },
   "file_extension": ".py",
   "mimetype": "text/x-python",
   "name": "python",
   "nbconvert_exporter": "python",
   "pygments_lexer": "ipython3",
   "version": "3.10.6"
  },
  "vscode": {
   "interpreter": {
    "hash": "64591c546c6db0157161b004a89ee09f30b0183a8a3f69406b4acd4930c24408"
   }
  }
 },
 "nbformat": 4,
 "nbformat_minor": 5
}
