{
 "cells": [
  {
   "cell_type": "code",
   "execution_count": 1,
   "id": "2ac38eaa",
   "metadata": {
    "_cell_guid": "b1076dfc-b9ad-4769-8c92-a6c4dae69d19",
    "_uuid": "8f2839f25d086af736a60e9eeb907d3b93b6e0e5",
    "execution": {
     "iopub.execute_input": "2022-10-26T06:14:47.766097Z",
     "iopub.status.busy": "2022-10-26T06:14:47.764979Z",
     "iopub.status.idle": "2022-10-26T06:14:49.884427Z",
     "shell.execute_reply": "2022-10-26T06:14:49.883395Z"
    },
    "papermill": {
     "duration": 2.130803,
     "end_time": "2022-10-26T06:14:49.887108",
     "exception": false,
     "start_time": "2022-10-26T06:14:47.756305",
     "status": "completed"
    },
    "tags": []
   },
   "outputs": [],
   "source": [
    "import os \n",
    "import numpy as np\n",
    "import matplotlib.pyplot as plt\n",
    "import cv2\n",
    "import torch.nn as nn\n",
    "import torch\n",
    "import torch.nn.functional as F\n",
    "from torch.utils.data import DataLoader\n",
    "from torch.utils.data import TensorDataset"
   ]
  },
  {
   "cell_type": "code",
   "execution_count": 2,
   "id": "b7c98394",
   "metadata": {},
   "outputs": [],
   "source": [
    "# 여기서 로컬라이즈 시작\n",
    "#PC의 GPU 사용 \n",
    "\n",
    "os.environ[\"CUDA_DEVICE_ORDER\"]=\"PCI_BUS_ID\"\n",
    "os.environ[\"CUDA_VISIBLE_DEVICES\"]=\"1\"\n",
    "\n",
    "base_path = './Data preprocessed/CSM1'"
   ]
  },
  {
   "cell_type": "code",
   "execution_count": 3,
   "id": "753de467",
   "metadata": {
    "execution": {
     "iopub.execute_input": "2022-10-26T06:14:49.902284Z",
     "iopub.status.busy": "2022-10-26T06:14:49.900565Z",
     "iopub.status.idle": "2022-10-26T06:14:49.950737Z",
     "shell.execute_reply": "2022-10-26T06:14:49.949828Z"
    },
    "papermill": {
     "duration": 0.05945,
     "end_time": "2022-10-26T06:14:49.953007",
     "exception": false,
     "start_time": "2022-10-26T06:14:49.893557",
     "status": "completed"
    },
    "tags": []
   },
   "outputs": [],
   "source": [
    "#False_path = os.path.join('../input/rollcheckerteam','9f')\n",
    "False_path = os.path.join(base_path,\"9f\")\n",
    "False_file_list = [os.path.join(False_path,file) for file in os.listdir(False_path)]\n",
    "#True_path = os.path.join('../input/rollcheckerteam','9')\n",
    "True_path = os.path.join(base_path,\"9\")\n",
    "True_file_list = [os.path.join(True_path,file) for file in os.listdir(True_path)]\n",
    "# 여기까지 로컬라이즈 끝"
   ]
  },
  {
   "cell_type": "code",
   "execution_count": 4,
   "id": "c00d960d",
   "metadata": {
    "execution": {
     "iopub.execute_input": "2022-10-26T06:14:49.967436Z",
     "iopub.status.busy": "2022-10-26T06:14:49.966023Z",
     "iopub.status.idle": "2022-10-26T06:14:49.971640Z",
     "shell.execute_reply": "2022-10-26T06:14:49.970624Z"
    },
    "papermill": {
     "duration": 0.014294,
     "end_time": "2022-10-26T06:14:49.973557",
     "exception": false,
     "start_time": "2022-10-26T06:14:49.959263",
     "status": "completed"
    },
    "tags": []
   },
   "outputs": [],
   "source": [
    "img_wh_size = 144"
   ]
  },
  {
   "cell_type": "code",
   "execution_count": 5,
   "id": "154147e3",
   "metadata": {
    "execution": {
     "iopub.execute_input": "2022-10-26T06:14:49.986842Z",
     "iopub.status.busy": "2022-10-26T06:14:49.986545Z",
     "iopub.status.idle": "2022-10-26T06:14:50.372413Z",
     "shell.execute_reply": "2022-10-26T06:14:50.371187Z"
    },
    "papermill": {
     "duration": 0.396014,
     "end_time": "2022-10-26T06:14:50.375389",
     "exception": false,
     "start_time": "2022-10-26T06:14:49.979375",
     "status": "completed"
    },
    "tags": []
   },
   "outputs": [],
   "source": [
    "train_imgs = np.zeros((len(True_file_list),1,img_wh_size,img_wh_size))\n",
    "\n",
    "for idx,img in enumerate(True_file_list):\n",
    "    tmp_grayscale_img = cv2.imread(img,cv2.IMREAD_GRAYSCALE)\n",
    "    tmp_grayscale_img = cv2.resize(tmp_grayscale_img,(img_wh_size,img_wh_size))/255\n",
    "    train_imgs[idx,0,:,:] = tmp_grayscale_img"
   ]
  },
  {
   "cell_type": "code",
   "execution_count": 6,
   "id": "35afc3e7",
   "metadata": {
    "execution": {
     "iopub.execute_input": "2022-10-26T06:14:50.393397Z",
     "iopub.status.busy": "2022-10-26T06:14:50.391850Z",
     "iopub.status.idle": "2022-10-26T06:14:50.441825Z",
     "shell.execute_reply": "2022-10-26T06:14:50.440965Z"
    },
    "papermill": {
     "duration": 0.06056,
     "end_time": "2022-10-26T06:14:50.444063",
     "exception": false,
     "start_time": "2022-10-26T06:14:50.383503",
     "status": "completed"
    },
    "tags": []
   },
   "outputs": [],
   "source": [
    "test_imgs = np.zeros((len(False_file_list),1,img_wh_size,img_wh_size))\n",
    "\n",
    "for idx,img in enumerate(False_file_list):\n",
    "    tmp_grayscale_img = cv2.imread(img,cv2.IMREAD_GRAYSCALE)\n",
    "    tmp_grayscale_img = cv2.resize(tmp_grayscale_img,(img_wh_size,img_wh_size))/255\n",
    "    test_imgs[idx,0,:,:] = tmp_grayscale_img"
   ]
  },
  {
   "cell_type": "code",
   "execution_count": 7,
   "id": "c1f22ee3",
   "metadata": {
    "execution": {
     "iopub.execute_input": "2022-10-26T06:14:50.458005Z",
     "iopub.status.busy": "2022-10-26T06:14:50.456615Z",
     "iopub.status.idle": "2022-10-26T06:14:50.466467Z",
     "shell.execute_reply": "2022-10-26T06:14:50.465567Z"
    },
    "papermill": {
     "duration": 0.018535,
     "end_time": "2022-10-26T06:14:50.468409",
     "exception": false,
     "start_time": "2022-10-26T06:14:50.449874",
     "status": "completed"
    },
    "tags": []
   },
   "outputs": [
    {
     "data": {
      "text/plain": [
       "(16, 1, 144, 144)"
      ]
     },
     "execution_count": 7,
     "metadata": {},
     "output_type": "execute_result"
    }
   ],
   "source": [
    "test_imgs.shape"
   ]
  },
  {
   "cell_type": "code",
   "execution_count": 8,
   "id": "79e6e1c6",
   "metadata": {
    "execution": {
     "iopub.execute_input": "2022-10-26T06:14:50.481309Z",
     "iopub.status.busy": "2022-10-26T06:14:50.481057Z",
     "iopub.status.idle": "2022-10-26T06:14:50.486424Z",
     "shell.execute_reply": "2022-10-26T06:14:50.485556Z"
    },
    "papermill": {
     "duration": 0.014003,
     "end_time": "2022-10-26T06:14:50.488255",
     "exception": false,
     "start_time": "2022-10-26T06:14:50.474252",
     "status": "completed"
    },
    "tags": []
   },
   "outputs": [
    {
     "data": {
      "text/plain": [
       "(124, 1, 144, 144)"
      ]
     },
     "execution_count": 8,
     "metadata": {},
     "output_type": "execute_result"
    }
   ],
   "source": [
    "train_imgs.shape"
   ]
  },
  {
   "cell_type": "code",
   "execution_count": 9,
   "id": "abe400bf",
   "metadata": {
    "execution": {
     "iopub.execute_input": "2022-10-26T06:14:50.503068Z",
     "iopub.status.busy": "2022-10-26T06:14:50.501711Z",
     "iopub.status.idle": "2022-10-26T06:14:50.744524Z",
     "shell.execute_reply": "2022-10-26T06:14:50.743527Z"
    },
    "papermill": {
     "duration": 0.252519,
     "end_time": "2022-10-26T06:14:50.746577",
     "exception": false,
     "start_time": "2022-10-26T06:14:50.494058",
     "status": "completed"
    },
    "tags": []
   },
   "outputs": [
    {
     "data": {
      "text/plain": [
       "<matplotlib.image.AxesImage at 0x2b2865f51e0>"
      ]
     },
     "execution_count": 9,
     "metadata": {},
     "output_type": "execute_result"
    },
    {
     "data": {
      "image/png": "[encoded data removed]",
      "text/plain": [
       "<Figure size 640x480 with 1 Axes>"
      ]
     },
     "metadata": {},
     "output_type": "display_data"
    }
   ],
   "source": [
    "plt.imshow(test_imgs[2,0,:,:])"
   ]
  },
  {
   "cell_type": "code",
   "execution_count": 10,
   "id": "facea18e",
   "metadata": {
    "execution": {
     "iopub.execute_input": "2022-10-26T06:14:50.760561Z",
     "iopub.status.busy": "2022-10-26T06:14:50.760272Z",
     "iopub.status.idle": "2022-10-26T06:14:50.972650Z",
     "shell.execute_reply": "2022-10-26T06:14:50.971528Z"
    },
    "papermill": {
     "duration": 0.221876,
     "end_time": "2022-10-26T06:14:50.974922",
     "exception": false,
     "start_time": "2022-10-26T06:14:50.753046",
     "status": "completed"
    },
    "tags": []
   },
   "outputs": [
    {
     "data": {
      "text/plain": [
       "<matplotlib.image.AxesImage at 0x2b28882b0d0>"
      ]
     },
     "execution_count": 10,
     "metadata": {},
     "output_type": "execute_result"
    },
    {
     "data": {
      "image/png": "[encoded data removed]",
      "text/plain": [
       "<Figure size 640x480 with 1 Axes>"
      ]
     },
     "metadata": {},
     "output_type": "display_data"
    }
   ],
   "source": [
    "plt.imshow(train_imgs[2,0,:,:])"
   ]
  },
  {
   "cell_type": "code",
   "execution_count": 11,
   "id": "cb5bb000",
   "metadata": {
    "execution": {
     "iopub.execute_input": "2022-10-26T06:14:50.989759Z",
     "iopub.status.busy": "2022-10-26T06:14:50.989453Z",
     "iopub.status.idle": "2022-10-26T06:14:50.994152Z",
     "shell.execute_reply": "2022-10-26T06:14:50.993137Z"
    },
    "papermill": {
     "duration": 0.014917,
     "end_time": "2022-10-26T06:14:50.996691",
     "exception": false,
     "start_time": "2022-10-26T06:14:50.981774",
     "status": "completed"
    },
    "tags": []
   },
   "outputs": [],
   "source": [
    "input_size =img_wh_size\n",
    "hidden_size = [img_wh_size,256,256,512,512]\n",
    "output_size =36\n",
    "batch_size=2"
   ]
  },
  {
   "cell_type": "code",
   "execution_count": 12,
   "id": "06d8933c",
   "metadata": {
    "execution": {
     "iopub.execute_input": "2022-10-26T06:14:51.010956Z",
     "iopub.status.busy": "2022-10-26T06:14:51.010695Z",
     "iopub.status.idle": "2022-10-26T06:14:51.015075Z",
     "shell.execute_reply": "2022-10-26T06:14:51.014049Z"
    },
    "papermill": {
     "duration": 0.013984,
     "end_time": "2022-10-26T06:14:51.017354",
     "exception": false,
     "start_time": "2022-10-26T06:14:51.003370",
     "status": "completed"
    },
    "tags": []
   },
   "outputs": [],
   "source": [
    "kernel_size = 4\n",
    "stride = 1\n",
    "padding = 0\n",
    "init_kernel = 16"
   ]
  },
  {
   "cell_type": "code",
   "execution_count": 13,
   "id": "886891c0",
   "metadata": {
    "execution": {
     "iopub.execute_input": "2022-10-26T06:14:51.031948Z",
     "iopub.status.busy": "2022-10-26T06:14:51.031695Z",
     "iopub.status.idle": "2022-10-26T06:14:51.058763Z",
     "shell.execute_reply": "2022-10-26T06:14:51.057756Z"
    },
    "papermill": {
     "duration": 0.037275,
     "end_time": "2022-10-26T06:14:51.061154",
     "exception": false,
     "start_time": "2022-10-26T06:14:51.023879",
     "status": "completed"
    },
    "tags": []
   },
   "outputs": [],
   "source": [
    "## AutoEncoder 클래스 구현 \n",
    "class VariationalAutoEncoder(nn.Module):\n",
    "    def __init__(self, input_size, hidden_size, output_size):\n",
    "        super(VariationalAutoEncoder, self).__init__()\n",
    "        ## initialize\n",
    "        self.input_size = input_size\n",
    "        self.hidden_size = hidden_size\n",
    "        self.output_size = output_size\n",
    "        self.Relu = nn.RReLU()\n",
    "        self.flatten = nn.Flatten()\n",
    "        ##오토인코더 구현\n",
    "        \n",
    "        self.fc_mu = nn.Linear(output_size,output_size)\n",
    "        self.fc_var =nn.Linear(output_size,output_size)\n",
    "        \n",
    "        ## 인코더 부분\n",
    "        self.input_en_layer = nn.Conv2d(\n",
    "            in_channels=1, out_channels=init_kernel, kernel_size=kernel_size, \n",
    "            stride=stride, padding=padding)\n",
    "        #self.bn1 = nn.BatchNorm2d(hidden_size[0])\n",
    "        self.input_en_layer_2 = nn.Conv2d(\n",
    "            in_channels=init_kernel, out_channels=init_kernel*2, kernel_size=kernel_size, \n",
    "            stride=stride, padding=padding\n",
    "        )\n",
    "        #self.bn2 = nn.BatchNorm2d(hidden_size[1])\n",
    "        self.input_en_layer_3 = nn.Conv2d(\n",
    "            in_channels=init_kernel*2, out_channels=init_kernel*4, kernel_size=kernel_size, \n",
    "            stride=stride, padding=padding\n",
    "        )\n",
    "        #self.bn3 = nn.BatchNorm2d(hidden_size[2])\n",
    "        self.input_en_layer_4 = nn.Conv2d(\n",
    "            in_channels=init_kernel*4, out_channels=init_kernel*8, kernel_size=kernel_size, \n",
    "            stride=stride, padding=padding\n",
    "        )\n",
    "        #self.bn4 = nn.BatchNorm2d(hidden_size[3])\n",
    "        self.input_en_layer_5 = nn.Conv2d(\n",
    "            in_channels=init_kernel*8, out_channels=init_kernel, kernel_size=kernel_size, \n",
    "            stride=stride, padding=padding\n",
    "        )\n",
    "        #self.bn5 = nn.BatchNorm2d(hidden_size[4])\n",
    "        self.output_en_layer = nn.Linear(2230272, output_size)\n",
    "        \n",
    "        #log_var = \n",
    "        \n",
    "        ## 디코더 부분\n",
    "        self.input_dic_layer = nn.ConvTranspose2d(\n",
    "            in_channels=1, out_channels=init_kernel*8, kernel_size=2, \n",
    "            stride=stride*2, padding=padding\n",
    "        )\n",
    "        self.input_dic_layer_5 = nn.ConvTranspose2d(\n",
    "            in_channels=init_kernel, out_channels=init_kernel*8, kernel_size=kernel_size, \n",
    "            stride=stride*2, padding=padding\n",
    "        )\n",
    "        self\n",
    "        self.input_dic_layer_4 = nn.ConvTranspose2d(\n",
    "            in_channels=init_kernel*8, out_channels=init_kernel*4, kernel_size=kernel_size*8, \n",
    "            stride=stride, padding=padding\n",
    "        )\n",
    "        self.input_dic_layer_3 = nn.ConvTranspose2d(\n",
    "            in_channels=init_kernel*4, out_channels=init_kernel*2, kernel_size=kernel_size*4, \n",
    "            stride=stride, padding=padding\n",
    "        )\n",
    "        self.input_dic_layer_2 = nn.ConvTranspose2d(\n",
    "            in_channels=init_kernel*2, out_channels=init_kernel, kernel_size=kernel_size*2, \n",
    "            stride=stride, padding=padding\n",
    "        )\n",
    "        \n",
    "        self.output_dic_layer = nn.ConvTranspose2d(\n",
    "            in_channels=16, out_channels=1, kernel_size=kernel_size*4, \n",
    "            stride=2, padding=padding\n",
    "        )\n",
    "        \n",
    "        self.log_scale = nn.Parameter(torch.Tensor([0.0]))\n",
    "        self.mu = 0\n",
    "        self.z = 0\n",
    "        self.log_var = 0\n",
    "        \n",
    "        \n",
    "    def encode(self,inputs):\n",
    "        x = (self.input_en_layer(inputs))\n",
    "        x = self.Relu(x)\n",
    "        \n",
    "        x = (self.input_en_layer_2(x))\n",
    "        x = self.Relu(x)\n",
    "\n",
    "        x = (self.input_en_layer_3(x))\n",
    "\n",
    "        x = self.Relu(x)\n",
    "        x = (self.input_en_layer_4(x))\n",
    "        x = self.Relu(x)\n",
    "        x = self.flatten(x)\n",
    "        output = self.output_en_layer(x) \n",
    "        \n",
    "        return output\n",
    "    \n",
    "    def decode(self,output):\n",
    "        output = self.input_dic_layer(output)\n",
    "        output = (self.input_dic_layer_4(output))\n",
    "        output = self.Relu(output)\n",
    "        output = (self.input_dic_layer_3(output))\n",
    "        output = self.Relu(output)\n",
    "        output = (self.input_dic_layer_2(output))\n",
    "        output = self.Relu(output)\n",
    "        \n",
    "        output = self.output_dic_layer(output)\n",
    "        #output = nn.ZeroPad2d(1)(output)\n",
    "        \n",
    "        return torch.relu(output)\n",
    "    \n",
    "    def gaussian_likelihood(self,x_hat,x):\n",
    "        scale=  torch.exp(torch.tensor(self.log_scale))\n",
    "        mean = x_hat\n",
    "        dist = torch.distributions.Normal(mean,scale)\n",
    "        \n",
    "        log_pxz = dist.log_prob(x)\n",
    "        \n",
    "        return log_pxz.sum(dim=(1))\n",
    "        \n",
    " \n",
    "    def kl_divergence(self, z, mu, std):\n",
    "        # --------------------------\n",
    "        # Monte carlo KL divergence\n",
    "        # --------------------------\n",
    "        # 1. define the first two probabilities (in this case Normal for both)\n",
    "        p = torch.distributions.Normal(torch.zeros_like(mu), torch.ones_like(std))\n",
    "        q = torch.distributions.Normal(mu, std)\n",
    "\n",
    "        # 2. get the probabilities from the equation\n",
    "        log_qzx = q.log_prob(z)\n",
    "        log_pz = p.log_prob(z)\n",
    "\n",
    "        # kl\n",
    "        kl = (log_qzx - log_pz)\n",
    "\n",
    "        # sum over last dim to go from single dim distribution to multi-dim\n",
    "        kl = kl.sum(-1)\n",
    "        return kl\n",
    "    \n",
    "    def forwardV2(self, inputs): \n",
    "        output = self.encode(inputs)\n",
    "        self.mu = self.fc_mu(output)\n",
    "        self.log_var = self.fc_var(output)\n",
    "        std = torch.exp(self.log_var/2)\n",
    "        q = torch.distributions.Normal(self.mu,std)\n",
    "        \n",
    "        z = q.rsample()\n",
    "        z = z.view([-1,1,6,6])\n",
    "        \n",
    "        \n",
    "        x_hat = self.decode(z)\n",
    "\n",
    "        \n",
    "        return x_hat\n",
    "    \n",
    "    def forwardV3(self, inputs): \n",
    "        output = self.encode(inputs)\n",
    "        self.mu = self.fc_mu(output)\n",
    "        self.log_var = self.fc_var(output)\n",
    "        std = torch.exp(self.log_var/2)\n",
    "        q = torch.distributions.Normal(self.mu,std)\n",
    "        \n",
    "        z = q.rsample()\n",
    "        z = z.view([-1,1,6,6])\n",
    "        \n",
    "        \n",
    "        x_hat = self.decode(z)\n",
    "        \n",
    "        recon_loss = self.gaussian_likelihood(x_hat,inputs)\n",
    "        z = z.view([-1,36])\n",
    "        kl =  self.kl_divergence(z,self.mu,std)\n",
    "        elbo = (kl - recon_loss.mean(dim=1).mean(dim=1))\n",
    "        \n",
    "        return elbo\n",
    "    \n",
    "    def forward(self, inputs): \n",
    "        output = self.encode(inputs)\n",
    "        self.mu = self.fc_mu(output)\n",
    "        self.log_var = self.fc_var(output)\n",
    "        std = torch.exp(self.log_var/2)\n",
    "        q = torch.distributions.Normal(self.mu,std)\n",
    "        \n",
    "        z = q.rsample()\n",
    "        z = z.view([-1,1,6,6])\n",
    "        \n",
    "        \n",
    "        x_hat = self.decode(z)\n",
    "        \n",
    "        recon_loss = self.gaussian_likelihood(x_hat,inputs)\n",
    "        z = z.view([-1,36])\n",
    "        kl =  self.kl_divergence(z,self.mu,std)\n",
    "        elbo = (kl - recon_loss.mean(dim=1).mean(dim=1))\n",
    "        elbo = elbo.mean()\n",
    "        \n",
    "        return elbo\n",
    "    "
   ]
  },
  {
   "cell_type": "code",
   "execution_count": 14,
   "id": "9034993a",
   "metadata": {
    "execution": {
     "iopub.execute_input": "2022-10-26T06:14:51.075190Z",
     "iopub.status.busy": "2022-10-26T06:14:51.074924Z",
     "iopub.status.idle": "2022-10-26T06:14:51.908938Z",
     "shell.execute_reply": "2022-10-26T06:14:51.907926Z"
    },
    "papermill": {
     "duration": 0.843681,
     "end_time": "2022-10-26T06:14:51.911321",
     "exception": false,
     "start_time": "2022-10-26T06:14:51.067640",
     "status": "completed"
    },
    "tags": []
   },
   "outputs": [],
   "source": [
    "MSELoss = nn.MSELoss()\n",
    "## 매개변수 조정 방식으로 Adam사용\n",
    "optimizer = torch.optim.Adam\n",
    "VAE = VariationalAutoEncoder(input_size,hidden_size, output_size)\n",
    "optim = optimizer(VAE.parameters())"
   ]
  },
  {
   "cell_type": "code",
   "execution_count": null,
   "id": "7dacda72",
   "metadata": {
    "papermill": {
     "duration": 0.00644,
     "end_time": "2022-10-26T06:14:51.924571",
     "exception": false,
     "start_time": "2022-10-26T06:14:51.918131",
     "status": "completed"
    },
    "tags": []
   },
   "outputs": [],
   "source": []
  },
  {
   "cell_type": "code",
   "execution_count": 15,
   "id": "544bd392",
   "metadata": {
    "execution": {
     "iopub.execute_input": "2022-10-26T06:14:51.939429Z",
     "iopub.status.busy": "2022-10-26T06:14:51.938668Z",
     "iopub.status.idle": "2022-10-26T06:14:51.943462Z",
     "shell.execute_reply": "2022-10-26T06:14:51.942550Z"
    },
    "papermill": {
     "duration": 0.014518,
     "end_time": "2022-10-26T06:14:51.945618",
     "exception": false,
     "start_time": "2022-10-26T06:14:51.931100",
     "status": "completed"
    },
    "tags": []
   },
   "outputs": [],
   "source": [
    "train_dataloader = DataLoader(train_imgs, batch_size=16,\n",
    "                                         shuffle=True)"
   ]
  },
  {
   "cell_type": "code",
   "execution_count": 16,
   "id": "5add31bc",
   "metadata": {
    "execution": {
     "iopub.execute_input": "2022-10-26T06:14:51.960734Z",
     "iopub.status.busy": "2022-10-26T06:14:51.959333Z",
     "iopub.status.idle": "2022-10-26T06:14:51.964101Z",
     "shell.execute_reply": "2022-10-26T06:14:51.963261Z"
    },
    "papermill": {
     "duration": 0.013892,
     "end_time": "2022-10-26T06:14:51.966010",
     "exception": false,
     "start_time": "2022-10-26T06:14:51.952118",
     "status": "completed"
    },
    "tags": []
   },
   "outputs": [],
   "source": [
    "test_dataloader = DataLoader(test_imgs, batch_size=16,\n",
    "                                         shuffle=True)"
   ]
  },
  {
   "cell_type": "code",
   "execution_count": 17,
   "id": "944024ac",
   "metadata": {
    "execution": {
     "iopub.execute_input": "2022-10-26T06:14:51.981070Z",
     "iopub.status.busy": "2022-10-26T06:14:51.979686Z",
     "iopub.status.idle": "2022-10-26T06:34:42.693051Z",
     "shell.execute_reply": "2022-10-26T06:34:42.692039Z"
    },
    "papermill": {
     "duration": 1190.730693,
     "end_time": "2022-10-26T06:34:42.703081",
     "exception": false,
     "start_time": "2022-10-26T06:14:51.972388",
     "status": "completed"
    },
    "tags": []
   },
   "outputs": [
    {
     "name": "stderr",
     "output_type": "stream",
     "text": [
      "C:\\Users\\john\\AppData\\Local\\Temp\\ipykernel_2024\\3532860123.py:16: UserWarning: To copy construct from a tensor, it is recommended to use sourceTensor.clone().detach() or sourceTensor.clone().detach().requires_grad_(True), rather than torch.tensor(sourceTensor).\n",
      "  x = torch.tensor(x,dtype=torch.float32)\n",
      "C:\\Users\\john\\AppData\\Local\\Temp\\ipykernel_2024\\1485222441.py:111: UserWarning: To copy construct from a tensor, it is recommended to use sourceTensor.clone().detach() or sourceTensor.clone().detach().requires_grad_(True), rather than torch.tensor(sourceTensor).\n",
      "  scale=  torch.exp(torch.tensor(self.log_scale))\n"
     ]
    },
    {
     "name": "stdout",
     "output_type": "stream",
     "text": [
      "epoch: 10, loss: 30.69\n",
      "epoch: 20, loss: 5.65\n",
      "epoch: 30, loss: 4.35\n",
      "epoch: 40, loss: 4.62\n",
      "epoch: 50, loss: 3.97\n",
      "epoch: 60, loss: 4.18\n",
      "epoch: 70, loss: 4.24\n",
      "epoch: 80, loss: 4.00\n",
      "epoch: 90, loss: 3.97\n",
      "epoch: 100, loss: 4.15\n",
      "epoch: 110, loss: 4.39\n",
      "epoch: 120, loss: 4.23\n",
      "epoch: 130, loss: 4.21\n",
      "epoch: 140, loss: 4.07\n",
      "epoch: 150, loss: 4.38\n",
      "epoch: 160, loss: 4.48\n",
      "epoch: 170, loss: 4.67\n",
      "epoch: 180, loss: 4.48\n",
      "epoch: 190, loss: 4.46\n",
      "epoch: 200, loss: 4.44\n",
      "epoch: 210, loss: 4.78\n",
      "epoch: 220, loss: 4.45\n",
      "epoch: 230, loss: 4.14\n",
      "epoch: 240, loss: 4.34\n",
      "epoch: 250, loss: 4.54\n",
      "epoch: 260, loss: 4.01\n",
      "epoch: 270, loss: 4.74\n",
      "epoch: 280, loss: 4.11\n",
      "epoch: 290, loss: 4.34\n",
      "epoch: 300, loss: 4.34\n",
      "epoch: 310, loss: 4.40\n",
      "epoch: 320, loss: 4.75\n",
      "epoch: 330, loss: 4.43\n",
      "epoch: 340, loss: 4.40\n",
      "epoch: 350, loss: 4.33\n",
      "epoch: 360, loss: 4.32\n",
      "epoch: 370, loss: 4.82\n",
      "epoch: 380, loss: 5.25\n",
      "epoch: 390, loss: 4.24\n",
      "epoch: 400, loss: 4.63\n",
      "epoch: 410, loss: 4.66\n",
      "epoch: 420, loss: 4.25\n",
      "epoch: 430, loss: 4.22\n",
      "epoch: 440, loss: 4.08\n",
      "epoch: 450, loss: 4.17\n",
      "epoch: 460, loss: 4.03\n",
      "epoch: 470, loss: 4.45\n",
      "epoch: 480, loss: 4.73\n",
      "epoch: 490, loss: 5.10\n",
      "epoch: 500, loss: 4.76\n",
      "epoch: 510, loss: 3.99\n",
      "epoch: 520, loss: 4.86\n",
      "epoch: 530, loss: 4.39\n",
      "epoch: 540, loss: 4.42\n",
      "epoch: 550, loss: 4.16\n",
      "epoch: 560, loss: 4.29\n",
      "epoch: 570, loss: 5.17\n",
      "epoch: 580, loss: 4.26\n",
      "epoch: 590, loss: 4.57\n",
      "epoch: 600, loss: 4.11\n",
      "epoch: 610, loss: 3.87\n",
      "epoch: 620, loss: 4.29\n",
      "epoch: 630, loss: 4.13\n",
      "epoch: 640, loss: 4.93\n",
      "epoch: 650, loss: 5.16\n",
      "epoch: 660, loss: 3.80\n",
      "epoch: 670, loss: 4.31\n",
      "epoch: 680, loss: 4.24\n",
      "epoch: 690, loss: 4.20\n",
      "epoch: 700, loss: 4.35\n",
      "epoch: 710, loss: 4.30\n",
      "epoch: 720, loss: 3.92\n",
      "epoch: 730, loss: 4.12\n",
      "epoch: 740, loss: 4.18\n",
      "epoch: 750, loss: 3.84\n",
      "epoch: 760, loss: 4.01\n",
      "epoch: 770, loss: 3.87\n",
      "epoch: 780, loss: 3.92\n",
      "epoch: 790, loss: 3.81\n",
      "epoch: 800, loss: 4.43\n",
      "epoch: 810, loss: 3.86\n",
      "epoch: 820, loss: 4.09\n",
      "epoch: 830, loss: 3.80\n",
      "epoch: 840, loss: 3.94\n",
      "epoch: 850, loss: 4.47\n",
      "epoch: 860, loss: 4.04\n",
      "epoch: 870, loss: 4.15\n",
      "epoch: 880, loss: 3.97\n",
      "epoch: 890, loss: 3.72\n",
      "epoch: 900, loss: 3.84\n",
      "epoch: 910, loss: 4.17\n",
      "epoch: 920, loss: 3.80\n",
      "epoch: 930, loss: 3.88\n",
      "epoch: 940, loss: 4.24\n",
      "epoch: 950, loss: 3.91\n",
      "epoch: 960, loss: 4.04\n",
      "epoch: 970, loss: 3.88\n",
      "epoch: 980, loss: 4.54\n",
      "epoch: 990, loss: 3.86\n",
      "epoch: 1000, loss: 3.86\n",
      "epoch: 1010, loss: 4.00\n",
      "epoch: 1020, loss: 3.67\n",
      "epoch: 1030, loss: 3.79\n",
      "epoch: 1040, loss: 3.89\n",
      "epoch: 1050, loss: 3.82\n",
      "epoch: 1060, loss: 3.88\n",
      "epoch: 1070, loss: 4.27\n",
      "epoch: 1080, loss: 3.82\n",
      "epoch: 1090, loss: 3.96\n",
      "epoch: 1100, loss: 3.71\n",
      "epoch: 1110, loss: 4.32\n",
      "epoch: 1120, loss: 4.21\n",
      "epoch: 1130, loss: 4.02\n",
      "epoch: 1140, loss: 3.85\n",
      "epoch: 1150, loss: 3.89\n",
      "epoch: 1160, loss: 3.91\n",
      "epoch: 1170, loss: 3.94\n",
      "epoch: 1180, loss: 4.41\n",
      "epoch: 1190, loss: 3.84\n",
      "epoch: 1200, loss: 5.51\n",
      "epoch: 1210, loss: 3.97\n",
      "epoch: 1220, loss: 4.05\n",
      "epoch: 1230, loss: 3.96\n",
      "epoch: 1240, loss: 4.25\n",
      "epoch: 1250, loss: 4.19\n",
      "epoch: 1260, loss: 4.10\n",
      "epoch: 1270, loss: 4.10\n",
      "epoch: 1280, loss: 4.01\n",
      "epoch: 1290, loss: 4.24\n",
      "epoch: 1300, loss: 3.88\n",
      "epoch: 1310, loss: 3.93\n",
      "epoch: 1320, loss: 3.89\n",
      "epoch: 1330, loss: 3.75\n",
      "epoch: 1340, loss: 4.07\n",
      "epoch: 1350, loss: 3.79\n",
      "epoch: 1360, loss: 3.78\n",
      "epoch: 1370, loss: 4.20\n",
      "epoch: 1380, loss: 3.99\n",
      "epoch: 1390, loss: 4.08\n",
      "epoch: 1400, loss: 4.51\n",
      "epoch: 1410, loss: 4.22\n",
      "epoch: 1420, loss: 4.02\n",
      "epoch: 1430, loss: 3.94\n",
      "epoch: 1440, loss: 3.80\n",
      "epoch: 1450, loss: 4.10\n",
      "epoch: 1460, loss: 4.02\n",
      "epoch: 1470, loss: 3.90\n",
      "epoch: 1480, loss: 3.87\n",
      "epoch: 1490, loss: 3.99\n",
      "epoch: 1500, loss: 4.10\n"
     ]
    }
   ],
   "source": [
    "Adam = optimizer(VAE.parameters(), lr =0.0001,weight_decay=0.00005)\n",
    "## 배치 학습을 시키기 위한 데이터 변환\n",
    "data_iter = train_dataloader\n",
    "## 에포크 학습\n",
    "vae_train_loss =[]\n",
    "vae_train_loss_view = []\n",
    "#VAE.cuda()\n",
    "VAE.train()\n",
    "# for ep in range(1, 300 +1):\n",
    "for ep in range(1, 1500 +1):\n",
    "    running_loss =0.0\n",
    "    for x in data_iter:\n",
    "        ## 매개변수 0으로 초기화\n",
    "        Adam.zero_grad()\n",
    "        # x = torch.tensor(x,dtype=torch.float32).cuda()\n",
    "        x = torch.tensor(x,dtype=torch.float32)\n",
    "        loss = VAE.forward(x)\n",
    "        #output = VAE.forwardV2(x)\n",
    "\n",
    "\n",
    "        #loss += MSELoss(output,x)\n",
    "        loss.backward()\n",
    "        \n",
    "        #print(loss.item())\n",
    "        vae_train_loss.append(loss.item())\n",
    "        Adam.step()\n",
    "        running_loss += loss.item()\n",
    "    vae_train_loss_view.append(running_loss/batch_size)\n",
    "    ## 각 에포크마다 손실 값 표기\n",
    "    if ep%10==0:\n",
    "        print(\"epoch: {}, loss: {:.2f}\".format(ep, running_loss/batch_size))"
   ]
  },
  {
   "cell_type": "code",
   "execution_count": 18,
   "id": "18e1b67d",
   "metadata": {
    "execution": {
     "iopub.execute_input": "2022-10-26T06:34:42.720835Z",
     "iopub.status.busy": "2022-10-26T06:34:42.720026Z",
     "iopub.status.idle": "2022-10-26T06:34:42.907254Z",
     "shell.execute_reply": "2022-10-26T06:34:42.906393Z"
    },
    "papermill": {
     "duration": 0.198313,
     "end_time": "2022-10-26T06:34:42.909452",
     "exception": false,
     "start_time": "2022-10-26T06:34:42.711139",
     "status": "completed"
    },
    "tags": []
   },
   "outputs": [
    {
     "data": {
      "text/plain": [
       "[<matplotlib.lines.Line2D at 0x2b2888a8340>]"
      ]
     },
     "execution_count": 18,
     "metadata": {},
     "output_type": "execute_result"
    },
    {
     "data": {
      "image/png": "[encoded data removed]",
      "text/plain": [
       "<Figure size 640x480 with 1 Axes>"
      ]
     },
     "metadata": {},
     "output_type": "display_data"
    }
   ],
   "source": [
    "plt.plot(vae_train_loss)"
   ]
  },
  {
   "cell_type": "code",
   "execution_count": 19,
   "id": "3d176018",
   "metadata": {
    "execution": {
     "iopub.execute_input": "2022-10-26T06:34:42.927643Z",
     "iopub.status.busy": "2022-10-26T06:34:42.927351Z",
     "iopub.status.idle": "2022-10-26T06:34:42.934270Z",
     "shell.execute_reply": "2022-10-26T06:34:42.933574Z"
    },
    "papermill": {
     "duration": 0.01794,
     "end_time": "2022-10-26T06:34:42.935984",
     "exception": false,
     "start_time": "2022-10-26T06:34:42.918044",
     "status": "completed"
    },
    "tags": []
   },
   "outputs": [
    {
     "data": {
      "text/plain": [
       "1.01517926633358"
      ]
     },
     "execution_count": 19,
     "metadata": {},
     "output_type": "execute_result"
    }
   ],
   "source": [
    "np.mean(vae_train_loss[-100:]) "
   ]
  },
  {
   "cell_type": "code",
   "execution_count": 20,
   "id": "3bc06379",
   "metadata": {
    "execution": {
     "iopub.execute_input": "2022-10-26T06:34:42.954704Z",
     "iopub.status.busy": "2022-10-26T06:34:42.953765Z",
     "iopub.status.idle": "2022-10-26T06:34:42.959412Z",
     "shell.execute_reply": "2022-10-26T06:34:42.958621Z"
    },
    "papermill": {
     "duration": 0.017079,
     "end_time": "2022-10-26T06:34:42.961491",
     "exception": false,
     "start_time": "2022-10-26T06:34:42.944412",
     "status": "completed"
    },
    "tags": []
   },
   "outputs": [],
   "source": [
    "Lowbound = np.mean(vae_train_loss[-100:])-np.std(vae_train_loss[-100:])\n",
    "Upperbound = np.mean(vae_train_loss[-100:])+np.std(vae_train_loss[-100:])"
   ]
  },
  {
   "cell_type": "code",
   "execution_count": 21,
   "id": "f68a95d7",
   "metadata": {
    "execution": {
     "iopub.execute_input": "2022-10-26T06:34:42.979838Z",
     "iopub.status.busy": "2022-10-26T06:34:42.979057Z",
     "iopub.status.idle": "2022-10-26T06:34:42.985021Z",
     "shell.execute_reply": "2022-10-26T06:34:42.984047Z"
    },
    "papermill": {
     "duration": 0.016995,
     "end_time": "2022-10-26T06:34:42.986930",
     "exception": false,
     "start_time": "2022-10-26T06:34:42.969935",
     "status": "completed"
    },
    "tags": []
   },
   "outputs": [
    {
     "data": {
      "text/plain": [
       "0.8912047970598215"
      ]
     },
     "execution_count": 21,
     "metadata": {},
     "output_type": "execute_result"
    }
   ],
   "source": [
    "Lowbound"
   ]
  },
  {
   "cell_type": "code",
   "execution_count": 22,
   "id": "7c914dfb",
   "metadata": {
    "execution": {
     "iopub.execute_input": "2022-10-26T06:34:43.005448Z",
     "iopub.status.busy": "2022-10-26T06:34:43.004684Z",
     "iopub.status.idle": "2022-10-26T06:34:43.010528Z",
     "shell.execute_reply": "2022-10-26T06:34:43.009623Z"
    },
    "papermill": {
     "duration": 0.017183,
     "end_time": "2022-10-26T06:34:43.012465",
     "exception": false,
     "start_time": "2022-10-26T06:34:42.995282",
     "status": "completed"
    },
    "tags": []
   },
   "outputs": [
    {
     "data": {
      "text/plain": [
       "1.1391537356073382"
      ]
     },
     "execution_count": 22,
     "metadata": {},
     "output_type": "execute_result"
    }
   ],
   "source": [
    "Upperbound"
   ]
  },
  {
   "cell_type": "code",
   "execution_count": 23,
   "id": "743d800f",
   "metadata": {
    "execution": {
     "iopub.execute_input": "2022-10-26T06:34:43.030964Z",
     "iopub.status.busy": "2022-10-26T06:34:43.030170Z",
     "iopub.status.idle": "2022-10-26T06:34:43.416929Z",
     "shell.execute_reply": "2022-10-26T06:34:43.415977Z"
    },
    "papermill": {
     "duration": 0.399159,
     "end_time": "2022-10-26T06:34:43.420051",
     "exception": false,
     "start_time": "2022-10-26T06:34:43.020892",
     "status": "completed"
    },
    "tags": []
   },
   "outputs": [
    {
     "name": "stderr",
     "output_type": "stream",
     "text": [
      "C:\\Users\\john\\AppData\\Local\\Temp\\ipykernel_2024\\3867120438.py:5: UserWarning: To copy construct from a tensor, it is recommended to use sourceTensor.clone().detach() or sourceTensor.clone().detach().requires_grad_(True), rather than torch.tensor(sourceTensor).\n",
      "  x = torch.tensor(x,dtype=torch.float32)\n"
     ]
    },
    {
     "name": "stdout",
     "output_type": "stream",
     "text": [
      "tensor(0.8840, grad_fn=<MeanBackward0>)\n"
     ]
    },
    {
     "name": "stderr",
     "output_type": "stream",
     "text": [
      "C:\\Users\\john\\AppData\\Local\\Temp\\ipykernel_2024\\1485222441.py:111: UserWarning: To copy construct from a tensor, it is recommended to use sourceTensor.clone().detach() or sourceTensor.clone().detach().requires_grad_(True), rather than torch.tensor(sourceTensor).\n",
      "  scale=  torch.exp(torch.tensor(self.log_scale))\n"
     ]
    }
   ],
   "source": [
    "for x in test_dataloader:\n",
    "    ## 매개변수 0으로 초기화\n",
    "    VAE.eval()\n",
    "    #x = torch.tensor(x,dtype=torch.float32).cuda()\n",
    "    x = torch.tensor(x,dtype=torch.float32)\n",
    "    loss = VAE.forward(x)\n",
    "    print(loss)"
   ]
  },
  {
   "cell_type": "code",
   "execution_count": null,
   "id": "6e048cac",
   "metadata": {
    "execution": {
     "iopub.execute_input": "2022-10-26T06:01:11.411472Z",
     "iopub.status.busy": "2022-10-26T06:01:11.411124Z",
     "iopub.status.idle": "2022-10-26T06:01:11.417800Z",
     "shell.execute_reply": "2022-10-26T06:01:11.416890Z",
     "shell.execute_reply.started": "2022-10-26T06:01:11.411444Z"
    },
    "papermill": {
     "duration": 0.008776,
     "end_time": "2022-10-26T06:34:43.437719",
     "exception": false,
     "start_time": "2022-10-26T06:34:43.428943",
     "status": "completed"
    },
    "tags": []
   },
   "outputs": [],
   "source": []
  },
  {
   "cell_type": "code",
   "execution_count": 24,
   "id": "c0b403b1",
   "metadata": {
    "execution": {
     "iopub.execute_input": "2022-10-26T06:34:43.457615Z",
     "iopub.status.busy": "2022-10-26T06:34:43.456634Z",
     "iopub.status.idle": "2022-10-26T06:34:46.334592Z",
     "shell.execute_reply": "2022-10-26T06:34:46.333478Z"
    },
    "papermill": {
     "duration": 2.88984,
     "end_time": "2022-10-26T06:34:46.336813",
     "exception": false,
     "start_time": "2022-10-26T06:34:43.446973",
     "status": "completed"
    },
    "tags": []
   },
   "outputs": [
    {
     "name": "stderr",
     "output_type": "stream",
     "text": [
      "C:\\Users\\john\\AppData\\Local\\Temp\\ipykernel_2024\\925877998.py:4: UserWarning: To copy construct from a tensor, it is recommended to use sourceTensor.clone().detach() or sourceTensor.clone().detach().requires_grad_(True), rather than torch.tensor(sourceTensor).\n",
      "  x = torch.tensor(x,dtype=torch.float32)\n",
      "C:\\Users\\john\\AppData\\Local\\Temp\\ipykernel_2024\\1485222441.py:111: UserWarning: To copy construct from a tensor, it is recommended to use sourceTensor.clone().detach() or sourceTensor.clone().detach().requires_grad_(True), rather than torch.tensor(sourceTensor).\n",
      "  scale=  torch.exp(torch.tensor(self.log_scale))\n"
     ]
    },
    {
     "name": "stdout",
     "output_type": "stream",
     "text": [
      "tensor(0.9252, grad_fn=<MeanBackward0>)\n",
      "tensor(0.9793, grad_fn=<MeanBackward0>)\n",
      "tensor(1.0051, grad_fn=<MeanBackward0>)\n",
      "tensor(0.8752, grad_fn=<MeanBackward0>)\n",
      "tensor(1.0106, grad_fn=<MeanBackward0>)\n",
      "tensor(0.9267, grad_fn=<MeanBackward0>)\n",
      "tensor(1.1579, grad_fn=<MeanBackward0>)\n",
      "tensor(1.2000, grad_fn=<MeanBackward0>)\n"
     ]
    }
   ],
   "source": [
    "for x in train_dataloader:\n",
    "    Adam.zero_grad()\n",
    "    #x = torch.tensor(x,dtype=torch.float32).cuda()\n",
    "    x = torch.tensor(x,dtype=torch.float32)\n",
    "    loss = VAE.forward(x)\n",
    "    print(loss)"
   ]
  },
  {
   "cell_type": "code",
   "execution_count": 25,
   "id": "818c8ac6",
   "metadata": {
    "execution": {
     "iopub.execute_input": "2022-10-26T06:34:46.357329Z",
     "iopub.status.busy": "2022-10-26T06:34:46.357044Z",
     "iopub.status.idle": "2022-10-26T06:34:46.362096Z",
     "shell.execute_reply": "2022-10-26T06:34:46.361219Z"
    },
    "papermill": {
     "duration": 0.017706,
     "end_time": "2022-10-26T06:34:46.364055",
     "exception": false,
     "start_time": "2022-10-26T06:34:46.346349",
     "status": "completed"
    },
    "tags": []
   },
   "outputs": [
    {
     "data": {
      "text/plain": [
       "<matplotlib.image.AxesImage at 0x2b2888c43d0>"
      ]
     },
     "execution_count": 25,
     "metadata": {},
     "output_type": "execute_result"
    },
    {
     "data": {
      "image/png": "[encoded data removed]",
      "text/plain": [
       "<Figure size 640x480 with 1 Axes>"
      ]
     },
     "metadata": {},
     "output_type": "display_data"
    }
   ],
   "source": [
    "plt.imshow(VAE.forwardV2(torch.FloatTensor(train_imgs[:3]))[0,0,:,:].detach().numpy()*255)"
   ]
  },
  {
   "cell_type": "code",
   "execution_count": 26,
   "id": "36c4593e",
   "metadata": {
    "execution": {
     "iopub.execute_input": "2022-10-26T06:34:46.384154Z",
     "iopub.status.busy": "2022-10-26T06:34:46.383390Z",
     "iopub.status.idle": "2022-10-26T06:34:46.387818Z",
     "shell.execute_reply": "2022-10-26T06:34:46.386985Z"
    },
    "papermill": {
     "duration": 0.016558,
     "end_time": "2022-10-26T06:34:46.389740",
     "exception": false,
     "start_time": "2022-10-26T06:34:46.373182",
     "status": "completed"
    },
    "tags": []
   },
   "outputs": [],
   "source": [
    "#plt.imshow(VAE.forwardV2(torch.FloatTensor(train_imgs[:3])*255).detach().numpy()[1,0,:,:])"
   ]
  },
  {
   "cell_type": "code",
   "execution_count": 27,
   "id": "43579a0c",
   "metadata": {
    "papermill": {
     "duration": 0.008943,
     "end_time": "2022-10-26T06:34:46.407921",
     "exception": false,
     "start_time": "2022-10-26T06:34:46.398978",
     "status": "completed"
    },
    "tags": []
   },
   "outputs": [],
   "source": [
    "from datetime import datetime\n",
    "now = datetime.now()\n",
    "current_time = now.strftime(\"%Y%m%d%H%M\")\n",
    "filenameStr = \"M_Gap9_\" + current_time + \".tmodel\"\n",
    "# 모델을 저장한다. (300mb정도)\n",
    "# torch.save(model.state_dict(), PATH)\n",
    "model_name = os.path.join(base_path,filenameStr)\n",
    "torch.save(VAE.state_dict(), model_name)\n",
    "# 모델을 불러온다.\n",
    "# model = TheModelClass(*args, **kwargs)\n",
    "# model.load_state_dict(torch.load(PATH))\n",
    "# model.eval()"
   ]
  }
 ],
 "metadata": {
  "kernelspec": {
   "display_name": "Python 3.10.6 64-bit",
   "language": "python",
   "name": "python3"
  },
  "language_info": {
   "codemirror_mode": {
    "name": "ipython",
    "version": 3
   },
   "file_extension": ".py",
   "mimetype": "text/x-python",
   "name": "python",
   "nbconvert_exporter": "python",
   "pygments_lexer": "ipython3",
   "version": "3.10.6"
  },
  "papermill": {
   "default_parameters": {},
   "duration": 1208.919448,
   "end_time": "2022-10-26T06:34:48.639180",
   "environment_variables": {},
   "exception": null,
   "input_path": "__notebook__.ipynb",
   "output_path": "__notebook__.ipynb",
   "parameters": {},
   "start_time": "2022-10-26T06:14:39.719732",
   "version": "2.3.4"
  },
  "vscode": {
   "interpreter": {
    "hash": "64591c546c6db0157161b004a89ee09f30b0183a8a3f69406b4acd4930c24408"
   }
  }
 },
 "nbformat": 4,
 "nbformat_minor": 5
}
